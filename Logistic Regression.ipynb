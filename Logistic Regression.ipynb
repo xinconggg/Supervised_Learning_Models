{
 "cells": [
  {
   "cell_type": "code",
   "execution_count": 2,
   "id": "0348551b-fb19-4bcd-acf1-db29d9b0afff",
   "metadata": {
    "vscode": {
     "languageId": "r"
    }
   },
   "outputs": [],
   "source": [
    "library(data.table)\n",
    "library(caTools) # For train-test split\n",
    "library(nnet) # For multinominal models"
   ]
  },
  {
   "cell_type": "code",
   "execution_count": 3,
   "id": "3f5560eb-0ba5-4520-9f99-a927a38e546e",
   "metadata": {
    "vscode": {
     "languageId": "r"
    }
   },
   "outputs": [],
   "source": [
    "setwd(\"Downloads\")"
   ]
  },
  {
   "cell_type": "markdown",
   "id": "fa216de0-7f3c-419a-ae3a-548aac8bd40d",
   "metadata": {},
   "source": [
    "# Continuous X\n",
    "## Predict pass/fail based on hours of study"
   ]
  },
  {
   "cell_type": "code",
   "execution_count": 4,
   "id": "c8c4f2a3-16a2-409f-a7ab-216b64f6e35e",
   "metadata": {
    "vscode": {
     "languageId": "r"
    }
   },
   "outputs": [],
   "source": [
    "# Read the dataset\n",
    "passexam <- fread(\"passexam.csv\")"
   ]
  },
  {
   "cell_type": "code",
   "execution_count": 5,
   "id": "bb25b745-54ef-42f4-ae2d-92dd310eb973",
   "metadata": {
    "vscode": {
     "languageId": "r"
    }
   },
   "outputs": [
    {
     "data": {
      "text/plain": [
       "     Hours       Outcome\n",
       " Min.   :0.500   F:10   \n",
       " 1st Qu.:1.688   P:10   \n",
       " Median :2.625          \n",
       " Mean   :2.788          \n",
       " 3rd Qu.:4.062          \n",
       " Max.   :5.500          "
      ]
     },
     "metadata": {},
     "output_type": "display_data"
    }
   ],
   "source": [
    "# Factor \"Outcome\" and change (0,1) to (\"F\",\"P\")\n",
    "passexam$Outcome <- factor(passexam$Outcome, labels=c(\"F\",\"P\"))\n",
    "summary(passexam)"
   ]
  },
  {
   "cell_type": "code",
   "execution_count": 6,
   "id": "18aabda4-78e8-40c4-9ea4-1c11b9391ff2",
   "metadata": {
    "vscode": {
     "languageId": "r"
    }
   },
   "outputs": [
    {
     "data": {
      "text/plain": [
       "\n",
       "Call:\n",
       "glm(formula = Outcome ~ Hours, family = binomial, data = passexam)\n",
       "\n",
       "Coefficients:\n",
       "            Estimate Std. Error z value Pr(>|z|)  \n",
       "(Intercept)  -4.0777     1.7610  -2.316   0.0206 *\n",
       "Hours         1.5046     0.6287   2.393   0.0167 *\n",
       "---\n",
       "Signif. codes:  0 '***' 0.001 '**' 0.01 '*' 0.05 '.' 0.1 ' ' 1\n",
       "\n",
       "(Dispersion parameter for binomial family taken to be 1)\n",
       "\n",
       "    Null deviance: 27.726  on 19  degrees of freedom\n",
       "Residual deviance: 16.060  on 18  degrees of freedom\n",
       "AIC: 20.06\n",
       "\n",
       "Number of Fisher Scoring iterations: 5\n"
      ]
     },
     "metadata": {},
     "output_type": "display_data"
    }
   ],
   "source": [
    "# Fit logistic regression model\n",
    "passexam.glm <- glm(Outcome ~ Hours, data=passexam, family=binomial)\n",
    "summary(passexam.glm)"
   ]
  },
  {
   "cell_type": "markdown",
   "id": "e3297dd1-24de-4d8a-a490-cb7037b57a92",
   "metadata": {},
   "source": [
    "- Hours is statistically significant\n",
    "- z = -4.08 + 1.50(Hours)\n",
    "- Pr(Y=Pass) = 1 / (1+e^-z)"
   ]
  },
  {
   "cell_type": "code",
   "execution_count": 7,
   "id": "7e03e695-36e7-45b6-925f-8746a6dcc185",
   "metadata": {
    "vscode": {
     "languageId": "r"
    }
   },
   "outputs": [
    {
     "data": {
      "text/html": [
       "<style>\n",
       ".dl-inline {width: auto; margin:0; padding: 0}\n",
       ".dl-inline>dt, .dl-inline>dd {float: none; width: auto; display: inline-block}\n",
       ".dl-inline>dt::after {content: \":\\0020\"; padding-right: .5ex}\n",
       ".dl-inline>dt:not(:first-of-type) {padding-left: .5ex}\n",
       "</style><dl class=dl-inline><dt>(Intercept)</dt><dd>0.0169461699742726</dd><dt>Hours</dt><dd>4.50255686796998</dd></dl>\n"
      ],
      "text/latex": [
       "\\begin{description*}\n",
       "\\item[(Intercept)] 0.0169461699742726\n",
       "\\item[Hours] 4.50255686796998\n",
       "\\end{description*}\n"
      ],
      "text/markdown": [
       "(Intercept)\n",
       ":   0.0169461699742726Hours\n",
       ":   4.50255686796998\n",
       "\n"
      ],
      "text/plain": [
       "(Intercept)       Hours \n",
       " 0.01694617  4.50255687 "
      ]
     },
     "metadata": {},
     "output_type": "display_data"
    },
    {
     "name": "stderr",
     "output_type": "stream",
     "text": [
      "Waiting for profiling to be done...\n",
      "\n"
     ]
    },
    {
     "data": {
      "text/html": [
       "<table class=\"dataframe\">\n",
       "<caption>A matrix: 2 × 2 of type dbl</caption>\n",
       "<thead>\n",
       "\t<tr><th></th><th scope=col>2.5 %</th><th scope=col>97.5 %</th></tr>\n",
       "</thead>\n",
       "<tbody>\n",
       "\t<tr><th scope=row>(Intercept)</th><td>0.0001868263</td><td> 0.2812875</td></tr>\n",
       "\t<tr><th scope=row>Hours</th><td>1.6978380343</td><td>23.2228735</td></tr>\n",
       "</tbody>\n",
       "</table>\n"
      ],
      "text/latex": [
       "A matrix: 2 × 2 of type dbl\n",
       "\\begin{tabular}{r|ll}\n",
       "  & 2.5 \\% & 97.5 \\%\\\\\n",
       "\\hline\n",
       "\t(Intercept) & 0.0001868263 &  0.2812875\\\\\n",
       "\tHours & 1.6978380343 & 23.2228735\\\\\n",
       "\\end{tabular}\n"
      ],
      "text/markdown": [
       "\n",
       "A matrix: 2 × 2 of type dbl\n",
       "\n",
       "| <!--/--> | 2.5 % | 97.5 % |\n",
       "|---|---|---|\n",
       "| (Intercept) | 0.0001868263 |  0.2812875 |\n",
       "| Hours | 1.6978380343 | 23.2228735 |\n",
       "\n"
      ],
      "text/plain": [
       "            2.5 %        97.5 %    \n",
       "(Intercept) 0.0001868263  0.2812875\n",
       "Hours       1.6978380343 23.2228735"
      ]
     },
     "metadata": {},
     "output_type": "display_data"
    }
   ],
   "source": [
    "# Odds-Ratio and Odds-Ratio Confidence Interval\n",
    "OR <- exp(coef(passexam.glm))\n",
    "OR\n",
    "OR.CI <- exp(confint(passexam.glm))\n",
    "OR.CI"
   ]
  },
  {
   "cell_type": "markdown",
   "id": "15dfddd6-0be0-4803-b3e9-e6f1d5e43703",
   "metadata": {},
   "source": [
    "- Since the Odds-Ratio confidence interval of \"Hours\" does not include 1, the odds-ratio is satistically significant\n",
    "- Odds-Ratio of \"Hours\" is 4.5, meaning that 1 more hour of study will increase the odds of passing by 4.5"
   ]
  },
  {
   "cell_type": "code",
   "execution_count": 8,
   "id": "926014f7-78d4-4de6-9db7-d73aa09f77f5",
   "metadata": {
    "vscode": {
     "languageId": "r"
    }
   },
   "outputs": [
    {
     "data": {
      "text/plain": [
       "   Y.hat\n",
       "    F P\n",
       "  F 8 2\n",
       "  P 2 8"
      ]
     },
     "metadata": {},
     "output_type": "display_data"
    },
    {
     "data": {
      "text/html": [
       "0.8"
      ],
      "text/latex": [
       "0.8"
      ],
      "text/markdown": [
       "0.8"
      ],
      "text/plain": [
       "[1] 0.8"
      ]
     },
     "metadata": {},
     "output_type": "display_data"
    }
   ],
   "source": [
    "# Confusion Matrix\n",
    "prob <- predict(passexam.glm, type='response')\n",
    "threshold <- sum(passexam$Outcome==\"P\")/length(passexam$Outcome)\n",
    "Y.hat <- ifelse(prob > threshold, \"P\", \"F\")\n",
    "table(passexam$Outcome, Y.hat)\n",
    "# Overall Accuracy\n",
    "mean(Y.hat==passexam$Outcome)"
   ]
  },
  {
   "cell_type": "markdown",
   "id": "b6783389-81b3-43f9-8407-cfc9e7c77e5a",
   "metadata": {},
   "source": [
    "- Model's accuracy is 80%"
   ]
  },
  {
   "cell_type": "markdown",
   "id": "c753f9bf-8621-4dd7-96d5-d12ac52798d3",
   "metadata": {},
   "source": [
    "# Continuous & Categorical X \n",
    "## Predict Loan default based on Gender, Avgbal, Avgoutstandingbal & Income"
   ]
  },
  {
   "cell_type": "code",
   "execution_count": 9,
   "id": "711fdf77-b2b4-4327-82b9-e96d45f2991d",
   "metadata": {
    "vscode": {
     "languageId": "r"
    }
   },
   "outputs": [
    {
     "data": {
      "text/plain": [
       " Default    Gender       AvgBal           Income     \n",
       " No :9667   F:2944   Min.   :   0.0   Min.   :  772  \n",
       " Yes: 333   M:7056   1st Qu.: 482.0   1st Qu.:21341  \n",
       "                     Median : 824.0   Median :34553  \n",
       "                     Mean   : 835.4   Mean   :33517  \n",
       "                     3rd Qu.:1166.2   3rd Qu.:43808  \n",
       "                     Max.   :2654.0   Max.   :73554  "
      ]
     },
     "metadata": {},
     "output_type": "display_data"
    }
   ],
   "source": [
    "# Read the dataset and set strings as factors\n",
    "default <- fread(\"default.csv\", stringsAsFactors = TRUE)\n",
    "summary(default)"
   ]
  },
  {
   "cell_type": "code",
   "execution_count": 10,
   "id": "593943b6-ed7a-4b05-a4b8-0798d3ee2951",
   "metadata": {
    "vscode": {
     "languageId": "r"
    }
   },
   "outputs": [
    {
     "data": {
      "text/html": [
       "<style>\n",
       ".list-inline {list-style: none; margin:0; padding: 0}\n",
       ".list-inline>li {display: inline-block}\n",
       ".list-inline>li:not(:last-child)::after {content: \"\\00b7\"; padding: 0 .5ex}\n",
       "</style>\n",
       "<ol class=list-inline><li>'No'</li><li>'Yes'</li></ol>\n"
      ],
      "text/latex": [
       "\\begin{enumerate*}\n",
       "\\item 'No'\n",
       "\\item 'Yes'\n",
       "\\end{enumerate*}\n"
      ],
      "text/markdown": [
       "1. 'No'\n",
       "2. 'Yes'\n",
       "\n",
       "\n"
      ],
      "text/plain": [
       "[1] \"No\"  \"Yes\""
      ]
     },
     "metadata": {},
     "output_type": "display_data"
    },
    {
     "data": {
      "text/html": [
       "<style>\n",
       ".list-inline {list-style: none; margin:0; padding: 0}\n",
       ".list-inline>li {display: inline-block}\n",
       ".list-inline>li:not(:last-child)::after {content: \"\\00b7\"; padding: 0 .5ex}\n",
       "</style>\n",
       "<ol class=list-inline><li>'F'</li><li>'M'</li></ol>\n"
      ],
      "text/latex": [
       "\\begin{enumerate*}\n",
       "\\item 'F'\n",
       "\\item 'M'\n",
       "\\end{enumerate*}\n"
      ],
      "text/markdown": [
       "1. 'F'\n",
       "2. 'M'\n",
       "\n",
       "\n"
      ],
      "text/plain": [
       "[1] \"F\" \"M\""
      ]
     },
     "metadata": {},
     "output_type": "display_data"
    },
    {
     "data": {
      "text/html": [
       "<style>\n",
       ".list-inline {list-style: none; margin:0; padding: 0}\n",
       ".list-inline>li {display: inline-block}\n",
       ".list-inline>li:not(:last-child)::after {content: \"\\00b7\"; padding: 0 .5ex}\n",
       "</style>\n",
       "<ol class=list-inline><li>'M'</li><li>'F'</li></ol>\n"
      ],
      "text/latex": [
       "\\begin{enumerate*}\n",
       "\\item 'M'\n",
       "\\item 'F'\n",
       "\\end{enumerate*}\n"
      ],
      "text/markdown": [
       "1. 'M'\n",
       "2. 'F'\n",
       "\n",
       "\n"
      ],
      "text/plain": [
       "[1] \"M\" \"F\""
      ]
     },
     "metadata": {},
     "output_type": "display_data"
    }
   ],
   "source": [
    "# Check levels of categorical variables and set \"M\" as the baseline\n",
    "levels(default$Default)\n",
    "levels(default$Gender)\n",
    "default$Gender <- relevel(default$Gender, ref=\"M\")\n",
    "levels(default$Gender)"
   ]
  },
  {
   "cell_type": "code",
   "execution_count": 11,
   "id": "360fda56-3e7b-4452-b1c4-fd3cb23106a8",
   "metadata": {
    "vscode": {
     "languageId": "r"
    }
   },
   "outputs": [],
   "source": [
    "# Create a 70-30 train-test split for \"Default\"\n",
    "set.seed(2014)\n",
    "train <- sample.split(Y=default$Default, SplitRatio=0.7)\n",
    "train_set <- subset(default, train==TRUE)\n",
    "test_set <- subset(default, train==FALSE)"
   ]
  },
  {
   "cell_type": "code",
   "execution_count": 12,
   "id": "8d142eb0-433f-43ca-a447-201b8ffcf1df",
   "metadata": {
    "vscode": {
     "languageId": "r"
    }
   },
   "outputs": [
    {
     "data": {
      "text/plain": [
       "\n",
       "        No        Yes \n",
       "0.96671429 0.03328571 "
      ]
     },
     "metadata": {},
     "output_type": "display_data"
    },
    {
     "data": {
      "text/plain": [
       "\n",
       "        No        Yes \n",
       "0.96666667 0.03333333 "
      ]
     },
     "metadata": {},
     "output_type": "display_data"
    }
   ],
   "source": [
    "# Verify that the proportion is similar in both train and test sets\n",
    "prop.table(table(train_set$Default))\n",
    "prop.table(table(test_set$Default))"
   ]
  },
  {
   "cell_type": "code",
   "execution_count": 13,
   "id": "6564c1f9-5e5a-401a-8aaf-1c5910e2586d",
   "metadata": {
    "vscode": {
     "languageId": "r"
    }
   },
   "outputs": [
    {
     "data": {
      "text/plain": [
       "\n",
       "Call:\n",
       "glm(formula = Default ~ ., family = binomial, data = train_set)\n",
       "\n",
       "Coefficients:\n",
       "              Estimate Std. Error z value Pr(>|z|)    \n",
       "(Intercept) -1.103e+01  6.000e-01 -18.388   <2e-16 ***\n",
       "GenderF     -5.572e-01  2.786e-01  -2.000   0.0455 *  \n",
       "AvgBal       5.777e-03  2.802e-04  20.615   <2e-16 ***\n",
       "Income       4.654e-06  9.774e-06   0.476   0.6340    \n",
       "---\n",
       "Signif. codes:  0 '***' 0.001 '**' 0.01 '*' 0.05 '.' 0.1 ' ' 1\n",
       "\n",
       "(Dispersion parameter for binomial family taken to be 1)\n",
       "\n",
       "    Null deviance: 2043.8  on 6999  degrees of freedom\n",
       "Residual deviance: 1108.6  on 6996  degrees of freedom\n",
       "AIC: 1116.6\n",
       "\n",
       "Number of Fisher Scoring iterations: 8\n"
      ]
     },
     "metadata": {},
     "output_type": "display_data"
    }
   ],
   "source": [
    "# Fit the logistic regression model\n",
    "default.glm <- glm(Default~., family=binomial, data=train_set)\n",
    "summary(default.glm)"
   ]
  },
  {
   "cell_type": "markdown",
   "id": "26566b71-7c8a-41b4-a946-884a238e4373",
   "metadata": {},
   "source": [
    "- AvgBal & Gender are statistically significant but not Income\n",
    "- Refit the model after removing the non-statistically significant variable (Income) "
   ]
  },
  {
   "cell_type": "code",
   "execution_count": 14,
   "id": "eeb80436-8e28-47b9-bd0e-accf4c61dc81",
   "metadata": {
    "vscode": {
     "languageId": "r"
    }
   },
   "outputs": [
    {
     "data": {
      "text/plain": [
       "\n",
       "Call:\n",
       "glm(formula = Default ~ . - Income, family = binomial, data = train_set)\n",
       "\n",
       "Coefficients:\n",
       "              Estimate Std. Error z value Pr(>|z|)    \n",
       "(Intercept) -1.084e+01  4.479e-01 -24.210  < 2e-16 ***\n",
       "GenderF     -6.606e-01  1.735e-01  -3.806 0.000141 ***\n",
       "AvgBal       5.776e-03  2.801e-04  20.626  < 2e-16 ***\n",
       "---\n",
       "Signif. codes:  0 '***' 0.001 '**' 0.01 '*' 0.05 '.' 0.1 ' ' 1\n",
       "\n",
       "(Dispersion parameter for binomial family taken to be 1)\n",
       "\n",
       "    Null deviance: 2043.8  on 6999  degrees of freedom\n",
       "Residual deviance: 1108.8  on 6997  degrees of freedom\n",
       "AIC: 1114.8\n",
       "\n",
       "Number of Fisher Scoring iterations: 8\n"
      ]
     },
     "metadata": {},
     "output_type": "display_data"
    }
   ],
   "source": [
    "# Refit the logistic regression model after removing \"Income\"\n",
    "default.glm2 <- glm(Default~.-Income, family=binomial, data=train_set)\n",
    "summary(default.glm2)"
   ]
  },
  {
   "cell_type": "markdown",
   "id": "a94dd9ec-622b-4436-86da-029578d85412",
   "metadata": {},
   "source": [
    "- Now all variables are satistically significant\n",
    "- z = -10.84 - 0.66(Gender) - 0.0058(AvgBal)\n",
    "- Pr(Y=Default) = 1 / (1+e^-z)"
   ]
  },
  {
   "cell_type": "code",
   "execution_count": 15,
   "id": "7c877acf-ea89-41b8-8e9c-39c1647bbd97",
   "metadata": {
    "vscode": {
     "languageId": "r"
    }
   },
   "outputs": [
    {
     "data": {
      "text/html": [
       "<style>\n",
       ".dl-inline {width: auto; margin:0; padding: 0}\n",
       ".dl-inline>dt, .dl-inline>dd {float: none; width: auto; display: inline-block}\n",
       ".dl-inline>dt::after {content: \":\\0020\"; padding-right: .5ex}\n",
       ".dl-inline>dt:not(:first-of-type) {padding-left: .5ex}\n",
       "</style><dl class=dl-inline><dt>(Intercept)</dt><dd>1.95102493592889e-05</dd><dt>GenderF</dt><dd>0.516554227790461</dd><dt>AvgBal</dt><dd>1.00579296092719</dd></dl>\n"
      ],
      "text/latex": [
       "\\begin{description*}\n",
       "\\item[(Intercept)] 1.95102493592889e-05\n",
       "\\item[GenderF] 0.516554227790461\n",
       "\\item[AvgBal] 1.00579296092719\n",
       "\\end{description*}\n"
      ],
      "text/markdown": [
       "(Intercept)\n",
       ":   1.95102493592889e-05GenderF\n",
       ":   0.516554227790461AvgBal\n",
       ":   1.00579296092719\n",
       "\n"
      ],
      "text/plain": [
       " (Intercept)      GenderF       AvgBal \n",
       "1.951025e-05 5.165542e-01 1.005793e+00 "
      ]
     },
     "metadata": {},
     "output_type": "display_data"
    },
    {
     "name": "stderr",
     "output_type": "stream",
     "text": [
      "Waiting for profiling to be done...\n",
      "\n"
     ]
    },
    {
     "data": {
      "text/html": [
       "<table class=\"dataframe\">\n",
       "<caption>A matrix: 3 × 2 of type dbl</caption>\n",
       "<thead>\n",
       "\t<tr><th></th><th scope=col>2.5 %</th><th scope=col>97.5 %</th></tr>\n",
       "</thead>\n",
       "<tbody>\n",
       "\t<tr><th scope=row>(Intercept)</th><td>7.819165e-06</td><td>4.534699e-05</td></tr>\n",
       "\t<tr><th scope=row>GenderF</th><td>3.657962e-01</td><td>7.227697e-01</td></tr>\n",
       "\t<tr><th scope=row>AvgBal</th><td>1.005260e+00</td><td>1.006365e+00</td></tr>\n",
       "</tbody>\n",
       "</table>\n"
      ],
      "text/latex": [
       "A matrix: 3 × 2 of type dbl\n",
       "\\begin{tabular}{r|ll}\n",
       "  & 2.5 \\% & 97.5 \\%\\\\\n",
       "\\hline\n",
       "\t(Intercept) & 7.819165e-06 & 4.534699e-05\\\\\n",
       "\tGenderF & 3.657962e-01 & 7.227697e-01\\\\\n",
       "\tAvgBal & 1.005260e+00 & 1.006365e+00\\\\\n",
       "\\end{tabular}\n"
      ],
      "text/markdown": [
       "\n",
       "A matrix: 3 × 2 of type dbl\n",
       "\n",
       "| <!--/--> | 2.5 % | 97.5 % |\n",
       "|---|---|---|\n",
       "| (Intercept) | 7.819165e-06 | 4.534699e-05 |\n",
       "| GenderF | 3.657962e-01 | 7.227697e-01 |\n",
       "| AvgBal | 1.005260e+00 | 1.006365e+00 |\n",
       "\n"
      ],
      "text/plain": [
       "            2.5 %        97.5 %      \n",
       "(Intercept) 7.819165e-06 4.534699e-05\n",
       "GenderF     3.657962e-01 7.227697e-01\n",
       "AvgBal      1.005260e+00 1.006365e+00"
      ]
     },
     "metadata": {},
     "output_type": "display_data"
    }
   ],
   "source": [
    "# Odds-Ratio and Odds-Ratio Confidence Interval\n",
    "OR <- exp(coef(default.glm2))\n",
    "OR\n",
    "OR.CI <- exp(confint(default.glm2))\n",
    "OR.CI\n",
    "## - Since the Odds-Ratio confidence interval of both variables do not include 1, the odds-ratio is satistically significant\n",
    "## - Since the Odds-Ratio for Gender=F is 0.517, the odds of default for females are 100% - 51.7% = 48.3% less compared to men\n",
    "## - Every unit increase in \"AvgBal\" will lead to 1.0058 increase in odds of default"
   ]
  },
  {
   "cell_type": "code",
   "execution_count": 16,
   "id": "6da7f33b-17ec-4a49-83f4-b2708630bb6f",
   "metadata": {
    "vscode": {
     "languageId": "r"
    }
   },
   "outputs": [
    {
     "data": {
      "text/plain": [
       "     predict.train\n",
       "        No  Yes\n",
       "  No  6738   29\n",
       "  Yes  164   69"
      ]
     },
     "metadata": {},
     "output_type": "display_data"
    },
    {
     "data": {
      "text/plain": [
       "     predict.train\n",
       "         No   Yes\n",
       "  No  0.963 0.004\n",
       "  Yes 0.023 0.010"
      ]
     },
     "metadata": {},
     "output_type": "display_data"
    },
    {
     "name": "stdout",
     "output_type": "stream",
     "text": [
      "Train set overall accuracy: 0.972"
     ]
    }
   ],
   "source": [
    "# Confusion Matrix for Train set\n",
    "threshold <- 0.5\n",
    "prob.train <- predict(default.glm2, type=\"response\", newdata=train_set)\n",
    "predict.train <- ifelse(prob.train>threshold, \"Yes\", \"No\")\n",
    "table.train <- table(train_set$Default, predict.train)\n",
    "table.train\n",
    "round(prop.table(table.train), 3)\n",
    "cat(\"Train set overall accuracy:\", round(mean(predict.train == train_set$Default),3))"
   ]
  },
  {
   "cell_type": "code",
   "execution_count": 17,
   "id": "e263ad0e-4d1a-4411-bc4e-d3c753f51670",
   "metadata": {
    "vscode": {
     "languageId": "r"
    }
   },
   "outputs": [
    {
     "data": {
      "text/plain": [
       "     predict.test\n",
       "        No  Yes\n",
       "  No  2890   10\n",
       "  Yes   64   36"
      ]
     },
     "metadata": {},
     "output_type": "display_data"
    },
    {
     "data": {
      "text/plain": [
       "     predict.test\n",
       "         No   Yes\n",
       "  No  0.963 0.003\n",
       "  Yes 0.021 0.012"
      ]
     },
     "metadata": {},
     "output_type": "display_data"
    },
    {
     "name": "stdout",
     "output_type": "stream",
     "text": [
      "Test set overall accuracy: 0.975"
     ]
    }
   ],
   "source": [
    "# Confusion Matrix for Train set\n",
    "prob.test <- predict(default.glm2, type=\"response\", newdata=test_set)\n",
    "predict.test <- ifelse(prob.test>threshold, \"Yes\", \"No\")\n",
    "table.test <- table(test_set$Default, predict.test)\n",
    "table.test\n",
    "round(prop.table(table.test),3)\n",
    "cat(\"Test set overall accuracy:\", round(mean(predict.test == test_set$Default),3))"
   ]
  },
  {
   "cell_type": "markdown",
   "id": "f3545630-b21f-4efa-a162-73b7f39f5828",
   "metadata": {},
   "source": [
    "# Multi-Categorical Y\n",
    "## Predict Ratings (Bad,Neutral,Good)"
   ]
  },
  {
   "cell_type": "code",
   "execution_count": 18,
   "id": "859a95b6-2152-4bb5-92c2-461e64c4608e",
   "metadata": {
    "vscode": {
     "languageId": "r"
    }
   },
   "outputs": [],
   "source": [
    "# Read the dataset and convert strings to categorical\n",
    "rating.dt <- fread(\"rating.csv\", stringsAsFactors=TRUE)"
   ]
  },
  {
   "cell_type": "code",
   "execution_count": 19,
   "id": "00b50ed6-b9b1-41eb-9bc1-e0fbf3256edb",
   "metadata": {
    "vscode": {
     "languageId": "r"
    }
   },
   "outputs": [
    {
     "data": {
      "text/html": [
       "<style>\n",
       ".list-inline {list-style: none; margin:0; padding: 0}\n",
       ".list-inline>li {display: inline-block}\n",
       ".list-inline>li:not(:last-child)::after {content: \"\\00b7\"; padding: 0 .5ex}\n",
       "</style>\n",
       "<ol class=list-inline><li>'Bad'</li><li>'Good'</li><li>'Neutral'</li></ol>\n"
      ],
      "text/latex": [
       "\\begin{enumerate*}\n",
       "\\item 'Bad'\n",
       "\\item 'Good'\n",
       "\\item 'Neutral'\n",
       "\\end{enumerate*}\n"
      ],
      "text/markdown": [
       "1. 'Bad'\n",
       "2. 'Good'\n",
       "3. 'Neutral'\n",
       "\n",
       "\n"
      ],
      "text/plain": [
       "[1] \"Bad\"     \"Good\"    \"Neutral\""
      ]
     },
     "metadata": {},
     "output_type": "display_data"
    },
    {
     "data": {
      "text/html": [
       "<style>\n",
       ".list-inline {list-style: none; margin:0; padding: 0}\n",
       ".list-inline>li {display: inline-block}\n",
       ".list-inline>li:not(:last-child)::after {content: \"\\00b7\"; padding: 0 .5ex}\n",
       "</style>\n",
       "<ol class=list-inline><li>'Neutral'</li><li>'Bad'</li><li>'Good'</li></ol>\n"
      ],
      "text/latex": [
       "\\begin{enumerate*}\n",
       "\\item 'Neutral'\n",
       "\\item 'Bad'\n",
       "\\item 'Good'\n",
       "\\end{enumerate*}\n"
      ],
      "text/markdown": [
       "1. 'Neutral'\n",
       "2. 'Bad'\n",
       "3. 'Good'\n",
       "\n",
       "\n"
      ],
      "text/plain": [
       "[1] \"Neutral\" \"Bad\"     \"Good\"   "
      ]
     },
     "metadata": {},
     "output_type": "display_data"
    }
   ],
   "source": [
    "# Check levels of rating and change baseline to \"Neutral\"\n",
    "levels(rating.dt$Rating)\n",
    "rating.dt$Rating <- relevel(rating.dt$Rating, ref=\"Neutral\")\n",
    "levels(rating.dt$Rating)"
   ]
  },
  {
   "cell_type": "code",
   "execution_count": 20,
   "id": "03da4a6f-a99b-48b7-956b-0c7df94b43e1",
   "metadata": {
    "vscode": {
     "languageId": "r"
    }
   },
   "outputs": [
    {
     "name": "stdout",
     "output_type": "stream",
     "text": [
      "# weights:  18 (10 variable)\n",
      "initial  value 195.552987 \n",
      "iter  10 value 125.792824\n",
      "final  value 123.862307 \n",
      "converged\n"
     ]
    },
    {
     "data": {
      "text/plain": [
       "Call:\n",
       "multinom(formula = Rating ~ . - Cust, data = rating.dt)\n",
       "\n",
       "Coefficients:\n",
       "     (Intercept)        WTQ       WTP LocationB   LocationC\n",
       "Bad    -3.911087  0.3353235 0.0714015 0.1522743 -0.03359073\n",
       "Good    1.195214 -0.2388393 0.1420355 0.1017307  0.39957803\n",
       "\n",
       "Std. Errors:\n",
       "     (Intercept)        WTQ       WTP LocationB LocationC\n",
       "Bad    0.9031107 0.06112252 0.2287039 0.5611857 0.5701487\n",
       "Good   0.6438784 0.05364305 0.2053201 0.5366026 0.5208776\n",
       "\n",
       "Residual Deviance: 247.7246 \n",
       "AIC: 267.7246 "
      ]
     },
     "metadata": {},
     "output_type": "display_data"
    }
   ],
   "source": [
    "# Fit the linear regression model\n",
    "rating.glm <- multinom(Rating~.-Cust, data=rating.dt)\n",
    "summary(rating.glm)"
   ]
  },
  {
   "cell_type": "code",
   "execution_count": 21,
   "id": "77ef5ad7-4f0a-4d3e-98fe-e1e25e8b1227",
   "metadata": {
    "vscode": {
     "languageId": "r"
    }
   },
   "outputs": [
    {
     "data": {
      "text/html": [
       "<table class=\"dataframe\">\n",
       "<caption>A matrix: 2 × 5 of type dbl</caption>\n",
       "<thead>\n",
       "\t<tr><th></th><th scope=col>(Intercept)</th><th scope=col>WTQ</th><th scope=col>WTP</th><th scope=col>LocationB</th><th scope=col>LocationC</th></tr>\n",
       "</thead>\n",
       "<tbody>\n",
       "\t<tr><th scope=row>Bad</th><td>1.486471e-05</td><td>4.109339e-08</td><td>0.7548881</td><td>0.7861266</td><td>0.9530192</td></tr>\n",
       "\t<tr><th scope=row>Good</th><td>6.341463e-02</td><td>8.492339e-06</td><td>0.4890781</td><td>0.8496359</td><td>0.4430074</td></tr>\n",
       "</tbody>\n",
       "</table>\n"
      ],
      "text/latex": [
       "A matrix: 2 × 5 of type dbl\n",
       "\\begin{tabular}{r|lllll}\n",
       "  & (Intercept) & WTQ & WTP & LocationB & LocationC\\\\\n",
       "\\hline\n",
       "\tBad & 1.486471e-05 & 4.109339e-08 & 0.7548881 & 0.7861266 & 0.9530192\\\\\n",
       "\tGood & 6.341463e-02 & 8.492339e-06 & 0.4890781 & 0.8496359 & 0.4430074\\\\\n",
       "\\end{tabular}\n"
      ],
      "text/markdown": [
       "\n",
       "A matrix: 2 × 5 of type dbl\n",
       "\n",
       "| <!--/--> | (Intercept) | WTQ | WTP | LocationB | LocationC |\n",
       "|---|---|---|---|---|---|\n",
       "| Bad | 1.486471e-05 | 4.109339e-08 | 0.7548881 | 0.7861266 | 0.9530192 |\n",
       "| Good | 6.341463e-02 | 8.492339e-06 | 0.4890781 | 0.8496359 | 0.4430074 |\n",
       "\n"
      ],
      "text/plain": [
       "     (Intercept)  WTQ          WTP       LocationB LocationC\n",
       "Bad  1.486471e-05 4.109339e-08 0.7548881 0.7861266 0.9530192\n",
       "Good 6.341463e-02 8.492339e-06 0.4890781 0.8496359 0.4430074"
      ]
     },
     "metadata": {},
     "output_type": "display_data"
    }
   ],
   "source": [
    "# Manually calculate the p-values for the coefficients\n",
    "z <- summary(rating.glm)$coefficients / summary(rating.glm)$standard.errors\n",
    "p_value <- (1-pnorm(abs(z), 0, 1))*2\n",
    "p_value"
   ]
  },
  {
   "cell_type": "markdown",
   "id": "60b9d6f8-cc79-49dd-8c90-7444faf43505",
   "metadata": {},
   "source": [
    "- Only \"WTQ\" is statistically significant\n",
    "- Refit the model by removing all statistically insignificant variables"
   ]
  },
  {
   "cell_type": "code",
   "execution_count": 22,
   "id": "2153cb7a-a4db-4106-b7ae-e740a6d5c9f9",
   "metadata": {
    "vscode": {
     "languageId": "r"
    }
   },
   "outputs": [
    {
     "name": "stdout",
     "output_type": "stream",
     "text": [
      "# weights:  9 (4 variable)\n",
      "initial  value 195.552987 \n",
      "iter  10 value 124.530286\n",
      "final  value 124.525995 \n",
      "converged\n"
     ]
    },
    {
     "data": {
      "text/plain": [
       "Call:\n",
       "multinom(formula = Rating ~ WTQ, data = rating.dt)\n",
       "\n",
       "Coefficients:\n",
       "     (Intercept)        WTQ\n",
       "Bad    -3.730275  0.3354517\n",
       "Good    1.675657 -0.2427254\n",
       "\n",
       "Std. Errors:\n",
       "     (Intercept)        WTQ\n",
       "Bad    0.7605860 0.06116371\n",
       "Good   0.3931501 0.05348945\n",
       "\n",
       "Residual Deviance: 249.052 \n",
       "AIC: 257.052 "
      ]
     },
     "metadata": {},
     "output_type": "display_data"
    }
   ],
   "source": [
    "# Refit the linear regression model without any statistically insignificant variables / with only \"WTQ\"\n",
    "rating.glm2 <- multinom(Rating~WTQ, data=rating.dt)\n",
    "summary(rating.glm2)"
   ]
  },
  {
   "cell_type": "code",
   "execution_count": 23,
   "id": "6456259b-d4ea-4b60-9a44-8ff6bfeb29c5",
   "metadata": {
    "vscode": {
     "languageId": "r"
    }
   },
   "outputs": [
    {
     "data": {
      "text/html": [
       "<table class=\"dataframe\">\n",
       "<caption>A matrix: 2 × 2 of type dbl</caption>\n",
       "<thead>\n",
       "\t<tr><th></th><th scope=col>(Intercept)</th><th scope=col>WTQ</th></tr>\n",
       "</thead>\n",
       "<tbody>\n",
       "\t<tr><th scope=row>Bad</th><td>9.367736e-07</td><td>4.146681e-08</td></tr>\n",
       "\t<tr><th scope=row>Good</th><td>2.024869e-05</td><td>5.683932e-06</td></tr>\n",
       "</tbody>\n",
       "</table>\n"
      ],
      "text/latex": [
       "A matrix: 2 × 2 of type dbl\n",
       "\\begin{tabular}{r|ll}\n",
       "  & (Intercept) & WTQ\\\\\n",
       "\\hline\n",
       "\tBad & 9.367736e-07 & 4.146681e-08\\\\\n",
       "\tGood & 2.024869e-05 & 5.683932e-06\\\\\n",
       "\\end{tabular}\n"
      ],
      "text/markdown": [
       "\n",
       "A matrix: 2 × 2 of type dbl\n",
       "\n",
       "| <!--/--> | (Intercept) | WTQ |\n",
       "|---|---|---|\n",
       "| Bad | 9.367736e-07 | 4.146681e-08 |\n",
       "| Good | 2.024869e-05 | 5.683932e-06 |\n",
       "\n"
      ],
      "text/plain": [
       "     (Intercept)  WTQ         \n",
       "Bad  9.367736e-07 4.146681e-08\n",
       "Good 2.024869e-05 5.683932e-06"
      ]
     },
     "metadata": {},
     "output_type": "display_data"
    }
   ],
   "source": [
    "# Manually calculate the p-values for the coefficients\n",
    "z2 <- summary(rating.glm2)$coefficients / summary(rating.glm2)$standard.errors\n",
    "p_value2 <- (1-pnorm(abs(z2), 0, 1))*2\n",
    "p_value2"
   ]
  },
  {
   "cell_type": "markdown",
   "id": "5cb855e8-0a3f-430f-b31e-a29721cc832e",
   "metadata": {},
   "source": [
    "- Now all variables are statistically significant\n",
    "- z_bad = -3.73 + 0.34(WTQ)\n",
    "- Pr(Y=Bad) = 1 / (1+e^-z_bad)\n",
    "- z_good = 1.68 - 0.24(WTQ)\n",
    "- Pr(Y=Good) = 1 / (1+e^-z_good)\n",
    "- Pr(Y=Neutral) 1 / (1+e^z_bad+z^z_good)"
   ]
  },
  {
   "cell_type": "code",
   "execution_count": 24,
   "id": "95d61dcf-29fd-4b2b-ad63-478982a4a64c",
   "metadata": {
    "vscode": {
     "languageId": "r"
    }
   },
   "outputs": [
    {
     "data": {
      "text/html": [
       "<table class=\"dataframe\">\n",
       "<caption>A matrix: 2 × 2 of type dbl</caption>\n",
       "<thead>\n",
       "\t<tr><th></th><th scope=col>(Intercept)</th><th scope=col>WTQ</th></tr>\n",
       "</thead>\n",
       "<tbody>\n",
       "\t<tr><th scope=row>Bad</th><td>0.02398624</td><td>1.3985719</td></tr>\n",
       "\t<tr><th scope=row>Good</th><td>5.34230338</td><td>0.7844869</td></tr>\n",
       "</tbody>\n",
       "</table>\n"
      ],
      "text/latex": [
       "A matrix: 2 × 2 of type dbl\n",
       "\\begin{tabular}{r|ll}\n",
       "  & (Intercept) & WTQ\\\\\n",
       "\\hline\n",
       "\tBad & 0.02398624 & 1.3985719\\\\\n",
       "\tGood & 5.34230338 & 0.7844869\\\\\n",
       "\\end{tabular}\n"
      ],
      "text/markdown": [
       "\n",
       "A matrix: 2 × 2 of type dbl\n",
       "\n",
       "| <!--/--> | (Intercept) | WTQ |\n",
       "|---|---|---|\n",
       "| Bad | 0.02398624 | 1.3985719 |\n",
       "| Good | 5.34230338 | 0.7844869 |\n",
       "\n"
      ],
      "text/plain": [
       "     (Intercept) WTQ      \n",
       "Bad  0.02398624  1.3985719\n",
       "Good 5.34230338  0.7844869"
      ]
     },
     "metadata": {},
     "output_type": "display_data"
    },
    {
     "data": {
      "text/html": [
       "<style>\n",
       ".list-inline {list-style: none; margin:0; padding: 0}\n",
       ".list-inline>li {display: inline-block}\n",
       ".list-inline>li:not(:last-child)::after {content: \"\\00b7\"; padding: 0 .5ex}\n",
       "</style>\n",
       "<ol class=list-inline><li>0.00540194475511403</li><li>1.24057253130481</li><li>0.106505989251461</li><li>1.57669414786255</li><li>2.47217162814816</li><li>0.706407677511666</li><li>11.5445890210969</li><li>0.871196278035132</li></ol>\n"
      ],
      "text/latex": [
       "\\begin{enumerate*}\n",
       "\\item 0.00540194475511403\n",
       "\\item 1.24057253130481\n",
       "\\item 0.106505989251461\n",
       "\\item 1.57669414786255\n",
       "\\item 2.47217162814816\n",
       "\\item 0.706407677511666\n",
       "\\item 11.5445890210969\n",
       "\\item 0.871196278035132\n",
       "\\end{enumerate*}\n"
      ],
      "text/markdown": [
       "1. 0.00540194475511403\n",
       "2. 1.24057253130481\n",
       "3. 0.106505989251461\n",
       "4. 1.57669414786255\n",
       "5. 2.47217162814816\n",
       "6. 0.706407677511666\n",
       "7. 11.5445890210969\n",
       "8. 0.871196278035132\n",
       "\n",
       "\n"
      ],
      "text/plain": [
       ", , Bad\n",
       "\n",
       "                  2.5 %   97.5 %\n",
       "(Intercept) 0.005401945 0.106506\n",
       "WTQ         1.240572531 1.576694\n",
       "\n",
       ", , Good\n",
       "\n",
       "                2.5 %     97.5 %\n",
       "(Intercept) 2.4721716 11.5445890\n",
       "WTQ         0.7064077  0.8711963\n"
      ]
     },
     "metadata": {},
     "output_type": "display_data"
    }
   ],
   "source": [
    "# Odds-Ratio and Odds-Ratio Confidence Interval\n",
    "OR <- exp(coef(rating.glm2))\n",
    "OR\n",
    "OR.CI <- exp(confint(rating.glm2))\n",
    "OR.CI"
   ]
  },
  {
   "cell_type": "markdown",
   "id": "5bbaad0f-20da-4c00-a943-2c847fbce31a",
   "metadata": {},
   "source": [
    "- Since the Odds-Ratio confidence interval of both variables do not include 1, the odds-ratio is statistically significant\n",
    "- Every unit increase in \"WTQ\" will lead to 1.399 increase in odds of Bad reviews\n",
    "- Every unit increase in \"WTQ\" will lead to 0.784 increase in odds of Good reviews"
   ]
  },
  {
   "cell_type": "code",
   "execution_count": 25,
   "id": "96777e0e-411f-4654-9999-37f0c7160f4d",
   "metadata": {
    "vscode": {
     "languageId": "r"
    }
   },
   "outputs": [
    {
     "data": {
      "text/html": [
       "<style>\n",
       ".list-inline {list-style: none; margin:0; padding: 0}\n",
       ".list-inline>li {display: inline-block}\n",
       ".list-inline>li:not(:last-child)::after {content: \"\\00b7\"; padding: 0 .5ex}\n",
       "</style>\n",
       "<ol class=list-inline><li>Neutral</li><li>Good</li><li>Good</li><li>Good</li><li>Good</li><li>Bad</li><li>Good</li><li>Bad</li><li>Good</li><li>Neutral</li><li>Good</li><li>Good</li><li>Good</li><li>Good</li><li>Good</li><li>Good</li><li>Good</li><li>Good</li><li>Good</li><li>Good</li><li>Good</li><li>Good</li><li>Good</li><li>Good</li><li>Good</li><li>Good</li><li>Good</li><li>Good</li><li>Good</li><li>Neutral</li><li>Neutral</li><li>Neutral</li><li>Good</li><li>Good</li><li>Good</li><li>Good</li><li>Good</li><li>Good</li><li>Neutral</li><li>Neutral</li><li>Good</li><li>Good</li><li>Good</li><li>Neutral</li><li>Neutral</li><li>Neutral</li><li>Good</li><li>Good</li><li>Good</li><li>Good</li><li>Neutral</li><li>Good</li><li>Good</li><li>Good</li><li>Neutral</li><li>Neutral</li><li>Good</li><li>Good</li><li>Bad</li><li>Good</li><li>Good</li><li>Bad</li><li>Good</li><li>Bad</li><li>Bad</li><li>Neutral</li><li>Good</li><li>Bad</li><li>Bad</li><li>Good</li><li>Neutral</li><li>Good</li><li>Neutral</li><li>Neutral</li><li>Neutral</li><li>Good</li><li>Bad</li><li>Good</li><li>Bad</li><li>Neutral</li><li>Bad</li><li>Good</li><li>Neutral</li><li>Good</li><li>Neutral</li><li>Good</li><li>Good</li><li>Bad</li><li>Bad</li><li>Neutral</li><li>Bad</li><li>Bad</li><li>Bad</li><li>Neutral</li><li>Good</li><li>Bad</li><li>Neutral</li><li>Good</li><li>Good</li><li>Good</li><li>Good</li><li>Neutral</li><li>Good</li><li>Neutral</li><li>Good</li><li>Neutral</li><li>Neutral</li><li>Neutral</li><li>Neutral</li><li>Bad</li><li>Neutral</li><li>Bad</li><li>Bad</li><li>Bad</li><li>Bad</li><li>Bad</li><li>Neutral</li><li>Bad</li><li>Bad</li><li>Bad</li><li>Bad</li><li>Bad</li><li>Bad</li><li>Bad</li><li>Bad</li><li>Neutral</li><li>Neutral</li><li>Bad</li><li>Bad</li><li>Bad</li><li>Bad</li><li>Bad</li><li>Bad</li><li>Bad</li><li>Good</li><li>Neutral</li><li>Bad</li><li>Neutral</li><li>Good</li><li>Neutral</li><li>Bad</li><li>Bad</li><li>Bad</li><li>Bad</li><li>Bad</li><li>Bad</li><li>Bad</li><li>Bad</li><li>Bad</li><li>Bad</li><li>Neutral</li><li>Neutral</li><li>Bad</li><li>Bad</li><li>Good</li><li>Bad</li><li>Bad</li><li>Bad</li><li>Bad</li><li>Bad</li><li>Bad</li><li>Bad</li><li>Bad</li><li>Bad</li><li>Bad</li><li>Bad</li><li>Bad</li><li>Bad</li><li>Bad</li><li>Bad</li><li>Bad</li><li>Bad</li><li>Bad</li><li>Bad</li><li>Bad</li><li>Bad</li><li>Bad</li><li>Bad</li></ol>\n",
       "\n",
       "<details>\n",
       "\t<summary style=display:list-item;cursor:pointer>\n",
       "\t\t<strong>Levels</strong>:\n",
       "\t</summary>\n",
       "\t<style>\n",
       "\t.list-inline {list-style: none; margin:0; padding: 0}\n",
       "\t.list-inline>li {display: inline-block}\n",
       "\t.list-inline>li:not(:last-child)::after {content: \"\\00b7\"; padding: 0 .5ex}\n",
       "\t</style>\n",
       "\t<ol class=list-inline><li>'Neutral'</li><li>'Bad'</li><li>'Good'</li></ol>\n",
       "</details>"
      ],
      "text/latex": [
       "\\begin{enumerate*}\n",
       "\\item Neutral\n",
       "\\item Good\n",
       "\\item Good\n",
       "\\item Good\n",
       "\\item Good\n",
       "\\item Bad\n",
       "\\item Good\n",
       "\\item Bad\n",
       "\\item Good\n",
       "\\item Neutral\n",
       "\\item Good\n",
       "\\item Good\n",
       "\\item Good\n",
       "\\item Good\n",
       "\\item Good\n",
       "\\item Good\n",
       "\\item Good\n",
       "\\item Good\n",
       "\\item Good\n",
       "\\item Good\n",
       "\\item Good\n",
       "\\item Good\n",
       "\\item Good\n",
       "\\item Good\n",
       "\\item Good\n",
       "\\item Good\n",
       "\\item Good\n",
       "\\item Good\n",
       "\\item Good\n",
       "\\item Neutral\n",
       "\\item Neutral\n",
       "\\item Neutral\n",
       "\\item Good\n",
       "\\item Good\n",
       "\\item Good\n",
       "\\item Good\n",
       "\\item Good\n",
       "\\item Good\n",
       "\\item Neutral\n",
       "\\item Neutral\n",
       "\\item Good\n",
       "\\item Good\n",
       "\\item Good\n",
       "\\item Neutral\n",
       "\\item Neutral\n",
       "\\item Neutral\n",
       "\\item Good\n",
       "\\item Good\n",
       "\\item Good\n",
       "\\item Good\n",
       "\\item Neutral\n",
       "\\item Good\n",
       "\\item Good\n",
       "\\item Good\n",
       "\\item Neutral\n",
       "\\item Neutral\n",
       "\\item Good\n",
       "\\item Good\n",
       "\\item Bad\n",
       "\\item Good\n",
       "\\item Good\n",
       "\\item Bad\n",
       "\\item Good\n",
       "\\item Bad\n",
       "\\item Bad\n",
       "\\item Neutral\n",
       "\\item Good\n",
       "\\item Bad\n",
       "\\item Bad\n",
       "\\item Good\n",
       "\\item Neutral\n",
       "\\item Good\n",
       "\\item Neutral\n",
       "\\item Neutral\n",
       "\\item Neutral\n",
       "\\item Good\n",
       "\\item Bad\n",
       "\\item Good\n",
       "\\item Bad\n",
       "\\item Neutral\n",
       "\\item Bad\n",
       "\\item Good\n",
       "\\item Neutral\n",
       "\\item Good\n",
       "\\item Neutral\n",
       "\\item Good\n",
       "\\item Good\n",
       "\\item Bad\n",
       "\\item Bad\n",
       "\\item Neutral\n",
       "\\item Bad\n",
       "\\item Bad\n",
       "\\item Bad\n",
       "\\item Neutral\n",
       "\\item Good\n",
       "\\item Bad\n",
       "\\item Neutral\n",
       "\\item Good\n",
       "\\item Good\n",
       "\\item Good\n",
       "\\item Good\n",
       "\\item Neutral\n",
       "\\item Good\n",
       "\\item Neutral\n",
       "\\item Good\n",
       "\\item Neutral\n",
       "\\item Neutral\n",
       "\\item Neutral\n",
       "\\item Neutral\n",
       "\\item Bad\n",
       "\\item Neutral\n",
       "\\item Bad\n",
       "\\item Bad\n",
       "\\item Bad\n",
       "\\item Bad\n",
       "\\item Bad\n",
       "\\item Neutral\n",
       "\\item Bad\n",
       "\\item Bad\n",
       "\\item Bad\n",
       "\\item Bad\n",
       "\\item Bad\n",
       "\\item Bad\n",
       "\\item Bad\n",
       "\\item Bad\n",
       "\\item Neutral\n",
       "\\item Neutral\n",
       "\\item Bad\n",
       "\\item Bad\n",
       "\\item Bad\n",
       "\\item Bad\n",
       "\\item Bad\n",
       "\\item Bad\n",
       "\\item Bad\n",
       "\\item Good\n",
       "\\item Neutral\n",
       "\\item Bad\n",
       "\\item Neutral\n",
       "\\item Good\n",
       "\\item Neutral\n",
       "\\item Bad\n",
       "\\item Bad\n",
       "\\item Bad\n",
       "\\item Bad\n",
       "\\item Bad\n",
       "\\item Bad\n",
       "\\item Bad\n",
       "\\item Bad\n",
       "\\item Bad\n",
       "\\item Bad\n",
       "\\item Neutral\n",
       "\\item Neutral\n",
       "\\item Bad\n",
       "\\item Bad\n",
       "\\item Good\n",
       "\\item Bad\n",
       "\\item Bad\n",
       "\\item Bad\n",
       "\\item Bad\n",
       "\\item Bad\n",
       "\\item Bad\n",
       "\\item Bad\n",
       "\\item Bad\n",
       "\\item Bad\n",
       "\\item Bad\n",
       "\\item Bad\n",
       "\\item Bad\n",
       "\\item Bad\n",
       "\\item Bad\n",
       "\\item Bad\n",
       "\\item Bad\n",
       "\\item Bad\n",
       "\\item Bad\n",
       "\\item Bad\n",
       "\\item Bad\n",
       "\\item Bad\n",
       "\\item Bad\n",
       "\\item Bad\n",
       "\\end{enumerate*}\n",
       "\n",
       "\\emph{Levels}: \\begin{enumerate*}\n",
       "\\item 'Neutral'\n",
       "\\item 'Bad'\n",
       "\\item 'Good'\n",
       "\\end{enumerate*}\n"
      ],
      "text/markdown": [
       "1. Neutral\n",
       "2. Good\n",
       "3. Good\n",
       "4. Good\n",
       "5. Good\n",
       "6. Bad\n",
       "7. Good\n",
       "8. Bad\n",
       "9. Good\n",
       "10. Neutral\n",
       "11. Good\n",
       "12. Good\n",
       "13. Good\n",
       "14. Good\n",
       "15. Good\n",
       "16. Good\n",
       "17. Good\n",
       "18. Good\n",
       "19. Good\n",
       "20. Good\n",
       "21. Good\n",
       "22. Good\n",
       "23. Good\n",
       "24. Good\n",
       "25. Good\n",
       "26. Good\n",
       "27. Good\n",
       "28. Good\n",
       "29. Good\n",
       "30. Neutral\n",
       "31. Neutral\n",
       "32. Neutral\n",
       "33. Good\n",
       "34. Good\n",
       "35. Good\n",
       "36. Good\n",
       "37. Good\n",
       "38. Good\n",
       "39. Neutral\n",
       "40. Neutral\n",
       "41. Good\n",
       "42. Good\n",
       "43. Good\n",
       "44. Neutral\n",
       "45. Neutral\n",
       "46. Neutral\n",
       "47. Good\n",
       "48. Good\n",
       "49. Good\n",
       "50. Good\n",
       "51. Neutral\n",
       "52. Good\n",
       "53. Good\n",
       "54. Good\n",
       "55. Neutral\n",
       "56. Neutral\n",
       "57. Good\n",
       "58. Good\n",
       "59. Bad\n",
       "60. Good\n",
       "61. Good\n",
       "62. Bad\n",
       "63. Good\n",
       "64. Bad\n",
       "65. Bad\n",
       "66. Neutral\n",
       "67. Good\n",
       "68. Bad\n",
       "69. Bad\n",
       "70. Good\n",
       "71. Neutral\n",
       "72. Good\n",
       "73. Neutral\n",
       "74. Neutral\n",
       "75. Neutral\n",
       "76. Good\n",
       "77. Bad\n",
       "78. Good\n",
       "79. Bad\n",
       "80. Neutral\n",
       "81. Bad\n",
       "82. Good\n",
       "83. Neutral\n",
       "84. Good\n",
       "85. Neutral\n",
       "86. Good\n",
       "87. Good\n",
       "88. Bad\n",
       "89. Bad\n",
       "90. Neutral\n",
       "91. Bad\n",
       "92. Bad\n",
       "93. Bad\n",
       "94. Neutral\n",
       "95. Good\n",
       "96. Bad\n",
       "97. Neutral\n",
       "98. Good\n",
       "99. Good\n",
       "100. Good\n",
       "101. Good\n",
       "102. Neutral\n",
       "103. Good\n",
       "104. Neutral\n",
       "105. Good\n",
       "106. Neutral\n",
       "107. Neutral\n",
       "108. Neutral\n",
       "109. Neutral\n",
       "110. Bad\n",
       "111. Neutral\n",
       "112. Bad\n",
       "113. Bad\n",
       "114. Bad\n",
       "115. Bad\n",
       "116. Bad\n",
       "117. Neutral\n",
       "118. Bad\n",
       "119. Bad\n",
       "120. Bad\n",
       "121. Bad\n",
       "122. Bad\n",
       "123. Bad\n",
       "124. Bad\n",
       "125. Bad\n",
       "126. Neutral\n",
       "127. Neutral\n",
       "128. Bad\n",
       "129. Bad\n",
       "130. Bad\n",
       "131. Bad\n",
       "132. Bad\n",
       "133. Bad\n",
       "134. Bad\n",
       "135. Good\n",
       "136. Neutral\n",
       "137. Bad\n",
       "138. Neutral\n",
       "139. Good\n",
       "140. Neutral\n",
       "141. Bad\n",
       "142. Bad\n",
       "143. Bad\n",
       "144. Bad\n",
       "145. Bad\n",
       "146. Bad\n",
       "147. Bad\n",
       "148. Bad\n",
       "149. Bad\n",
       "150. Bad\n",
       "151. Neutral\n",
       "152. Neutral\n",
       "153. Bad\n",
       "154. Bad\n",
       "155. Good\n",
       "156. Bad\n",
       "157. Bad\n",
       "158. Bad\n",
       "159. Bad\n",
       "160. Bad\n",
       "161. Bad\n",
       "162. Bad\n",
       "163. Bad\n",
       "164. Bad\n",
       "165. Bad\n",
       "166. Bad\n",
       "167. Bad\n",
       "168. Bad\n",
       "169. Bad\n",
       "170. Bad\n",
       "171. Bad\n",
       "172. Bad\n",
       "173. Bad\n",
       "174. Bad\n",
       "175. Bad\n",
       "176. Bad\n",
       "177. Bad\n",
       "178. Bad\n",
       "\n",
       "\n",
       "\n",
       "**Levels**: 1. 'Neutral'\n",
       "2. 'Bad'\n",
       "3. 'Good'\n",
       "\n",
       "\n"
      ],
      "text/plain": [
       "  [1] Neutral Good    Good    Good    Good    Bad     Good    Bad     Good   \n",
       " [10] Neutral Good    Good    Good    Good    Good    Good    Good    Good   \n",
       " [19] Good    Good    Good    Good    Good    Good    Good    Good    Good   \n",
       " [28] Good    Good    Neutral Neutral Neutral Good    Good    Good    Good   \n",
       " [37] Good    Good    Neutral Neutral Good    Good    Good    Neutral Neutral\n",
       " [46] Neutral Good    Good    Good    Good    Neutral Good    Good    Good   \n",
       " [55] Neutral Neutral Good    Good    Bad     Good    Good    Bad     Good   \n",
       " [64] Bad     Bad     Neutral Good    Bad     Bad     Good    Neutral Good   \n",
       " [73] Neutral Neutral Neutral Good    Bad     Good    Bad     Neutral Bad    \n",
       " [82] Good    Neutral Good    Neutral Good    Good    Bad     Bad     Neutral\n",
       " [91] Bad     Bad     Bad     Neutral Good    Bad     Neutral Good    Good   \n",
       "[100] Good    Good    Neutral Good    Neutral Good    Neutral Neutral Neutral\n",
       "[109] Neutral Bad     Neutral Bad     Bad     Bad     Bad     Bad     Neutral\n",
       "[118] Bad     Bad     Bad     Bad     Bad     Bad     Bad     Bad     Neutral\n",
       "[127] Neutral Bad     Bad     Bad     Bad     Bad     Bad     Bad     Good   \n",
       "[136] Neutral Bad     Neutral Good    Neutral Bad     Bad     Bad     Bad    \n",
       "[145] Bad     Bad     Bad     Bad     Bad     Bad     Neutral Neutral Bad    \n",
       "[154] Bad     Good    Bad     Bad     Bad     Bad     Bad     Bad     Bad    \n",
       "[163] Bad     Bad     Bad     Bad     Bad     Bad     Bad     Bad     Bad    \n",
       "[172] Bad     Bad     Bad     Bad     Bad     Bad     Bad    \n",
       "Levels: Neutral Bad Good"
      ]
     },
     "metadata": {},
     "output_type": "display_data"
    }
   ],
   "source": [
    "## Model-predicted service rating for each of the case in the dataset\n",
    "prob <- predict(rating.glm2, type=\"prob\")\n",
    "predicted.rating <- predict(rating.glm2)\n",
    "predicted.rating"
   ]
  }
 ],
 "metadata": {
  "kernelspec": {
   "display_name": "R",
   "language": "R",
   "name": "ir"
  },
  "language_info": {
   "codemirror_mode": "r",
   "file_extension": ".r",
   "mimetype": "text/x-r-source",
   "name": "R",
   "pygments_lexer": "r",
   "version": "4.4.1"
  }
 },
 "nbformat": 4,
 "nbformat_minor": 5
}
