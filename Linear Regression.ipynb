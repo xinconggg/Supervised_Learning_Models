{
 "cells": [
  {
   "cell_type": "code",
   "execution_count": 1,
   "id": "01b7972b-43dd-4615-b24c-997b9436ce14",
   "metadata": {},
   "outputs": [
    {
     "name": "stderr",
     "output_type": "stream",
     "text": [
      "Loading required package: carData\n",
      "\n"
     ]
    }
   ],
   "source": [
    "library(data.table) # To read excel files\n",
    "library(car) # For VIF"
   ]
  },
  {
   "cell_type": "code",
   "execution_count": 2,
   "id": "6f1bc789-dc84-4213-9f01-ebd1e62feb56",
   "metadata": {},
   "outputs": [],
   "source": [
    "setwd("Downloads")"
   ]
  },
  {
   "cell_type": "code",
   "execution_count": 3,
   "id": "315427e4-2c32-45c4-bcb1-ff395f75bcee",
   "metadata": {},
   "outputs": [],
   "source": [
    "data(mtcars)"
   ]
  },
  {
   "cell_type": "markdown",
   "id": "0a1b6a8f-c1ce-4dc0-bf5a-7700baeaaece",
   "metadata": {},
   "source": [
    "## Multiple R-squared vs Adjusted R-squared\n",
    "### Multiple R-squared\n",
    "- If multiple R-squared = 0.891, it means that 89.1% of the variation in the dependent variable can be explained by the **regression model**\n",
    "- If multiple R-squared = 1, **all** the variance in the dependent variable can be explained by the regression model i.e. Perfect fit\n",
    "### Adjusted R-squared (multiple independent variables)\n",
    "- If adjusted R-squared = 0.891, it means that 89.1% of the variation in the dependent variable can be explained by the **independent variables**\n",
    "- If adjusted R-squared = 1, **all** the variance in the dependent variable can be explained by the independent variables i.e. Perfect fit"
   ]
  },
  {
   "cell_type": "markdown",
   "id": "e5311be9-accc-47b5-bb3d-81ddfda656b6",
   "metadata": {},
   "source": [
    "# Continuous X\n",
    "## mpg vs wt"
   ]
  },
  {
   "cell_type": "code",
   "execution_count": 4,
   "id": "054ad3ed-ad80-4020-8a12-a843c76d2fbe",
   "metadata": {},
   "outputs": [
    {
     "data": {
      "text/plain": [
       "\n",
       "Call:\n",
       "lm(formula = mpg ~ wt, data = mtcars)\n",
       "\n",
       "Residuals:\n",
       "    Min      1Q  Median      3Q     Max \n",
       "-4.5432 -2.3647 -0.1252  1.4096  6.8727 \n",
       "\n",
       "Coefficients:\n",
       "            Estimate Std. Error t value Pr(>|t|)    \n",
       "(Intercept)  37.2851     1.8776  19.858  < 2e-16 ***\n",
       "wt           -5.3445     0.5591  -9.559 1.29e-10 ***\n",
       "---\n",
       "Signif. codes:  0 '***' 0.001 '**' 0.01 '*' 0.05 '.' 0.1 ' ' 1\n",
       "\n",
       "Residual standard error: 3.046 on 30 degrees of freedom\n",
       "Multiple R-squared:  0.7528,\tAdjusted R-squared:  0.7446 \n",
       "F-statistic: 91.38 on 1 and 30 DF,  p-value: 1.294e-10\n"
      ]
     },
     "metadata": {},
     "output_type": "display_data"
    }
   ],
   "source": [
    "# Fit linear regression model\n",
    "cars.lm <- lm(mpg~wt, data=mtcars)\n",
    "# Get summary of the model\n",
    "summary(cars.lm)"
   ]
  },
  {
   "cell_type": "markdown",
   "id": "3d515571-82c1-452b-b9bc-8e84706bfe10",
   "metadata": {},
   "source": [
    "- Linear Equation: mpg = 37.29 - 5.34(wt)\n",
    "- Since p-value of wt is <0.05, wt is statistically significant.\n",
    "- Multiple R-squared value of 0.753 means that 75.3% of the data can be explained by the linear equation - use when exactly 1 variable\n",
    "- Adjusted R-squared value of 0.746 means that 74.6% of the data can be explained by the independent variables - use when more than 1 variables\n"
   ]
  },
  {
   "cell_type": "markdown",
   "id": "ba7dd7ed-3f4d-43eb-bc3e-a71eba171638",
   "metadata": {},
   "source": [
    "### Plot Regression Line for mpg vs wt"
   ]
  },
  {
   "cell_type": "code",
   "execution_count": 5,
   "id": "4b94a3f7-f018-4f16-8173-316d54411255",
   "metadata": {},
   "outputs": [
    {
     "data": {
      "image/png": "iVBORw0KGgoAAAANSUhEUgAAA0gAAANICAMAAADKOT/pAAAANlBMVEX9/v0AAABMTUxnaGd7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\nSUVORK5CYII=",
      "text/plain": [
       "plot without title"
      ]
     },
     "metadata": {
      "image/png": {
       "height": 420,
       "width": 420
      }
     },
     "output_type": "display_data"
    }
   ],
   "source": [
    "plot(x=mtcars$wt, y=mtcars$mpg)\n",
    "abline(cars.lm, col=\"red\")"
   ]
  },
  {
   "cell_type": "markdown",
   "id": "08e03f9b-8c85-4efc-b8b8-c990e0ffa0c2",
   "metadata": {},
   "source": [
    "# Continuous & Categorical X\n",
    "## mpg vs (wt & cyl)"
   ]
  },
  {
   "cell_type": "code",
   "execution_count": 6,
   "id": "2a0446f3-0c6f-431c-8945-be499c60610b",
   "metadata": {},
   "outputs": [],
   "source": [
    "# Create a copy to preserve the original dataset\n",
    "mtcars.dt <- mtcars "
   ]
  },
  {
   "cell_type": "code",
   "execution_count": 7,
   "id": "6e69eb41-a644-4659-a2d2-c653c6568b88",
   "metadata": {},
   "outputs": [],
   "source": [
    "# Factor cyl\n",
    "mtcars.dt$cyl <- factor(mtcars.dt$cyl)"
   ]
  },
  {
   "cell_type": "code",
   "execution_count": 8,
   "id": "df52232e-8c1c-4bf1-9206-00960bcf824f",
   "metadata": {},
   "outputs": [
    {
     "data": {
      "text/plain": [
       "\n",
       "Call:\n",
       "lm(formula = mpg ~ wt + cyl, data = mtcars.dt)\n",
       "\n",
       "Residuals:\n",
       "    Min      1Q  Median      3Q     Max \n",
       "-4.5890 -1.2357 -0.5159  1.3845  5.7915 \n",
       "\n",
       "Coefficients:\n",
       "            Estimate Std. Error t value Pr(>|t|)    \n",
       "(Intercept)  33.9908     1.8878  18.006  < 2e-16 ***\n",
       "wt           -3.2056     0.7539  -4.252 0.000213 ***\n",
       "cyl6         -4.2556     1.3861  -3.070 0.004718 ** \n",
       "cyl8         -6.0709     1.6523  -3.674 0.000999 ***\n",
       "---\n",
       "Signif. codes:  0 '***' 0.001 '**' 0.01 '*' 0.05 '.' 0.1 ' ' 1\n",
       "\n",
       "Residual standard error: 2.557 on 28 degrees of freedom\n",
       "Multiple R-squared:  0.8374,\tAdjusted R-squared:   0.82 \n",
       "F-statistic: 48.08 on 3 and 28 DF,  p-value: 3.594e-11\n"
      ]
     },
     "metadata": {},
     "output_type": "display_data"
    }
   ],
   "source": [
    "# Fit linear regression model, with baseline: (cyl==4)\n",
    "mtcars.dt.lm <- lm(mpg~wt+cyl, data=mtcars.dt)\n",
    "# Get summary\n",
    "summary(mtcars.dt.lm)"
   ]
  },
  {
   "cell_type": "markdown",
   "id": "36e52b1f-846f-4b66-8f0e-082c64516e1a",
   "metadata": {},
   "source": [
    "- Linear Equation: mpg = 33.99 - 3.21(wt) - 4.26(cyl==6) - 6.07(cyl==8)\n",
    "- Since p-value of all is <0.05, all are statistically significant\n",
    "- Multiple R-squared value of 0.837 means that 83.7% of the data can be explained by the linear equation - use when exactly 1 variable\n",
    "- Adjusted R-squared value of 0.82 means that 82.0% of the data can be explained by the independent variables - use when more than 1 variables\n"
   ]
  },
  {
   "cell_type": "markdown",
   "id": "805ef47a-8dcb-48be-a2de-39af4094ebe5",
   "metadata": {},
   "source": [
    "# Example 1\n",
    "#### Develop a Regression model to explain Sales revenue by Types of drinks sold, Number of stores, and Average weekly earning"
   ]
  },
  {
   "cell_type": "code",
   "execution_count": 9,
   "id": "d174f5dd-2ec7-401f-baa7-d28a58cb3899",
   "metadata": {},
   "outputs": [],
   "source": [
    "# Import the dataset\n",
    "growth <- fread(\"StarbucksGrowth.csv\")"
   ]
  },
  {
   "cell_type": "code",
   "execution_count": 10,
   "id": "badc4da2-882a-4893-bf72-f7ae2aaee579",
   "metadata": {},
   "outputs": [
    {
     "data": {
      "text/plain": [
       "\n",
       "Call:\n",
       "lm(formula = Revenue ~ . - Year, data = growth)\n",
       "\n",
       "Residuals:\n",
       "       1        2        3        4        5        6        7 \n",
       " -3.6994  -6.6557  22.5877 -15.8762   3.9080  -0.1463  -0.1180 \n",
       "\n",
       "Coefficients:\n",
       "                  Estimate Std. Error t value Pr(>|t|)    \n",
       "(Intercept)     -1.350e+04  9.462e+02 -14.268 0.000746 ***\n",
       "Stores          -2.642e-02  2.777e-02  -0.952 0.411447    \n",
       "Drinks          -7.520e+01  1.007e+01  -7.468 0.004972 ** \n",
       "AveWeekEarnings  3.899e+01  2.847e+00  13.696 0.000842 ***\n",
       "---\n",
       "Signif. codes:  0 '***' 0.001 '**' 0.01 '*' 0.05 '.' 0.1 ' ' 1\n",
       "\n",
       "Residual standard error: 16.69 on 3 degrees of freedom\n",
       "Multiple R-squared:  0.9998,\tAdjusted R-squared:  0.9996 \n",
       "F-statistic:  4539 on 3 and 3 DF,  p-value: 5.549e-06\n"
      ]
     },
     "metadata": {},
     "output_type": "display_data"
    }
   ],
   "source": [
    "# Fit linear regression model\n",
    "growth.lm <- lm(Revenue~.-Year, data=growth)\n",
    "# Get summary\n",
    "summary(growth.lm)"
   ]
  },
  {
   "cell_type": "markdown",
   "id": "a668fc14-f0fe-41eb-a3f9-11616b1ebdca",
   "metadata": {},
   "source": [
    "- Since Average weekly earnings has the lowest p-value, it is the key predictor\n",
    "- Since p-value of Drinks <0.05, it is satistically significant\n",
    "- There's strange negative coefficient in Stores and Drinks, hence check VIF(Variance Inflation Factor)"
   ]
  },
  {
   "cell_type": "code",
   "execution_count": 11,
   "id": "9b2f54f5-a8d9-4406-adde-385368cc6789",
   "metadata": {},
   "outputs": [
    {
     "data": {
      "text/html": [
       "<style>\n",
       ".dl-inline {width: auto; margin:0; padding: 0}\n",
       ".dl-inline>dt, .dl-inline>dd {float: none; width: auto; display: inline-block}\n",
       ".dl-inline>dt::after {content: \":\\0020\"; padding-right: .5ex}\n",
       ".dl-inline>dt:not(:first-of-type) {padding-left: .5ex}\n",
       "</style><dl class=dl-inline><dt>Stores</dt><dd>33.0638249041108</dd><dt>Drinks</dt><dd>83.0133685305414</dd><dt>AveWeekEarnings</dt><dd>189.286705057674</dd></dl>\n"
      ],
      "text/latex": [
       "\\begin{description*}\n",
       "\\item[Stores] 33.0638249041108\n",
       "\\item[Drinks] 83.0133685305414\n",
       "\\item[AveWeekEarnings] 189.286705057674\n",
       "\\end{description*}\n"
      ],
      "text/markdown": [
       "Stores\n",
       ":   33.0638249041108Drinks\n",
       ":   83.0133685305414AveWeekEarnings\n",
       ":   189.286705057674\n",
       "\n"
      ],
      "text/plain": [
       "         Stores          Drinks AveWeekEarnings \n",
       "       33.06382        83.01337       189.28671 "
      ]
     },
     "metadata": {},
     "output_type": "display_data"
    }
   ],
   "source": [
    "vif(growth.lm)"
   ]
  },
  {
   "cell_type": "markdown",
   "id": "8d7375ed-9fdf-43a5-abc0-28649670cc75",
   "metadata": {},
   "source": [
    "- Note that VIF of all variables >= 10, hence remove the variable with highest VIF(AveWeekEarnings)"
   ]
  },
  {
   "cell_type": "code",
   "execution_count": 12,
   "id": "92c027f1-0ef4-4213-9ded-7e1179cc10ff",
   "metadata": {},
   "outputs": [
    {
     "data": {
      "text/html": [
       "<style>\n",
       ".dl-inline {width: auto; margin:0; padding: 0}\n",
       ".dl-inline>dt, .dl-inline>dd {float: none; width: auto; display: inline-block}\n",
       ".dl-inline>dt::after {content: \":\\0020\"; padding-right: .5ex}\n",
       ".dl-inline>dt:not(:first-of-type) {padding-left: .5ex}\n",
       "</style><dl class=dl-inline><dt>Stores</dt><dd>5.6692938224185</dd><dt>Drinks</dt><dd>5.6692938224185</dd></dl>\n"
      ],
      "text/latex": [
       "\\begin{description*}\n",
       "\\item[Stores] 5.6692938224185\n",
       "\\item[Drinks] 5.6692938224185\n",
       "\\end{description*}\n"
      ],
      "text/markdown": [
       "Stores\n",
       ":   5.6692938224185Drinks\n",
       ":   5.6692938224185\n",
       "\n"
      ],
      "text/plain": [
       "  Stores   Drinks \n",
       "5.669294 5.669294 "
      ]
     },
     "metadata": {},
     "output_type": "display_data"
    }
   ],
   "source": [
    "# Fit linear regression model without \"AveWeekEarnings\" then check VIF again\n",
    "growth.lm2 <- lm(Revenue~.-Year-AveWeekEarnings, data=growth)\n",
    "vif(growth.lm2)"
   ]
  },
  {
   "cell_type": "markdown",
   "id": "10a3e892-b2d5-4fa8-8fc5-0b4b487e9e8d",
   "metadata": {},
   "source": [
    "- Now VIF of all variables < 10"
   ]
  },
  {
   "cell_type": "code",
   "execution_count": 13,
   "id": "8e39d5c2-dd35-44d1-b6b9-1983190fdc26",
   "metadata": {},
   "outputs": [
    {
     "data": {
      "text/plain": [
       "\n",
       "Call:\n",
       "lm(formula = Revenue ~ . - Year - AveWeekEarnings, data = growth)\n",
       "\n",
       "Residuals:\n",
       "      1       2       3       4       5       6       7 \n",
       "-133.74   57.88   57.17   23.91  -45.33  132.19  -92.08 \n",
       "\n",
       "Coefficients:\n",
       "              Estimate Std. Error t value Pr(>|t|)  \n",
       "(Intercept) -551.29356  258.05485  -2.136   0.0995 .\n",
       "Stores         0.31972    0.07936   4.029   0.0158 *\n",
       "Drinks        57.92642   18.16540   3.189   0.0333 *\n",
       "---\n",
       "Signif. codes:  0 '***' 0.001 '**' 0.01 '*' 0.05 '.' 0.1 ' ' 1\n",
       "\n",
       "Residual standard error: 115.2 on 4 degrees of freedom\n",
       "Multiple R-squared:  0.986,\tAdjusted R-squared:  0.979 \n",
       "F-statistic: 140.9 on 2 and 4 DF,  p-value: 0.0001958\n"
      ]
     },
     "metadata": {},
     "output_type": "display_data"
    }
   ],
   "source": [
    "summary(growth.lm2)"
   ]
  },
  {
   "cell_type": "markdown",
   "id": "321213aa-e629-4228-b67c-b5b06a83d2bf",
   "metadata": {},
   "source": [
    "- Linear Equation: Revenue = -551.29 + 0.32(Stores) + 57.93(Drinks)"
   ]
  },
  {
   "cell_type": "markdown",
   "id": "e776b8e0-2b4a-426b-a4a6-a01f3605649c",
   "metadata": {},
   "source": [
    "# Example 2\n",
    "#### Set \"Manager\" as baseline reference level then conduct Linear Regression to estimate Salary with Occupation"
   ]
  },
  {
   "cell_type": "code",
   "execution_count": 14,
   "id": "3b978250-1758-4264-8eb7-43c51fe038af",
   "metadata": {},
   "outputs": [],
   "source": [
    "# Import the dataset and set \"stringsAsFactors\" to TRUE\n",
    "occupation <- fread(\"Occupation.csv\", stringsAsFactors = TRUE)"
   ]
  },
  {
   "cell_type": "code",
   "execution_count": 15,
   "id": "4f8b01f8-f4d0-4484-9843-b30ca09ad12f",
   "metadata": {},
   "outputs": [
    {
     "data": {
      "text/html": [
       "<style>\n",
       ".list-inline {list-style: none; margin:0; padding: 0}\n",
       ".list-inline>li {display: inline-block}\n",
       ".list-inline>li:not(:last-child)::after {content: \"\\00b7\"; padding: 0 .5ex}\n",
       "</style>\n",
       "<ol class=list-inline><li>'CEO'</li><li>'Clerk'</li><li>'Director'</li><li>'Manager'</li></ol>\n"
      ],
      "text/latex": [
       "\\begin{enumerate*}\n",
       "\\item 'CEO'\n",
       "\\item 'Clerk'\n",
       "\\item 'Director'\n",
       "\\item 'Manager'\n",
       "\\end{enumerate*}\n"
      ],
      "text/markdown": [
       "1. 'CEO'\n",
       "2. 'Clerk'\n",
       "3. 'Director'\n",
       "4. 'Manager'\n",
       "\n",
       "\n"
      ],
      "text/plain": [
       "[1] \"CEO\"      \"Clerk\"    \"Director\" \"Manager\" "
      ]
     },
     "metadata": {},
     "output_type": "display_data"
    }
   ],
   "source": [
    "# Check current level of \"Occ\" column\n",
    "levels(occupation$Occ)"
   ]
  },
  {
   "cell_type": "code",
   "execution_count": 16,
   "id": "25b82061-ba14-4488-9584-8b2b95c2ab47",
   "metadata": {},
   "outputs": [
    {
     "data": {
      "text/html": [
       "<style>\n",
       ".list-inline {list-style: none; margin:0; padding: 0}\n",
       ".list-inline>li {display: inline-block}\n",
       ".list-inline>li:not(:last-child)::after {content: \"\\00b7\"; padding: 0 .5ex}\n",
       "</style>\n",
       "<ol class=list-inline><li>'Manager'</li><li>'CEO'</li><li>'Clerk'</li><li>'Director'</li></ol>\n"
      ],
      "text/latex": [
       "\\begin{enumerate*}\n",
       "\\item 'Manager'\n",
       "\\item 'CEO'\n",
       "\\item 'Clerk'\n",
       "\\item 'Director'\n",
       "\\end{enumerate*}\n"
      ],
      "text/markdown": [
       "1. 'Manager'\n",
       "2. 'CEO'\n",
       "3. 'Clerk'\n",
       "4. 'Director'\n",
       "\n",
       "\n"
      ],
      "text/plain": [
       "[1] \"Manager\"  \"CEO\"      \"Clerk\"    \"Director\""
      ]
     },
     "metadata": {},
     "output_type": "display_data"
    }
   ],
   "source": [
    "# Change baseline to \"Manager\" then check the level again\n",
    "occupation$Occ <- relevel(occupation$Occ, ref=\"Manager\")\n",
    "levels(occupation$Occ)"
   ]
  },
  {
   "cell_type": "code",
   "execution_count": 17,
   "id": "3f95fdac-63f6-4327-a4e5-7b1e48f060ef",
   "metadata": {},
   "outputs": [
    {
     "data": {
      "text/plain": [
       "\n",
       "Call:\n",
       "lm(formula = Salary ~ Occ, data = occupation)\n",
       "\n",
       "Residuals:\n",
       "     1      2      3      4      5      6      7      8 \n",
       "   -50     50   -250    250  -1000   1000 -50000  50000 \n",
       "\n",
       "Coefficients:\n",
       "            Estimate Std. Error t value Pr(>|t|)   \n",
       "(Intercept)     2250      25005   0.090  0.93263   \n",
       "OccCEO        247750      35363   7.006  0.00219 **\n",
       "OccClerk       -1400      35363  -0.040  0.97032   \n",
       "OccDirector     6750      35363   0.191  0.85792   \n",
       "---\n",
       "Signif. codes:  0 '***' 0.001 '**' 0.01 '*' 0.05 '.' 0.1 ' ' 1\n",
       "\n",
       "Residual standard error: 35360 on 4 degrees of freedom\n",
       "Multiple R-squared:  0.9478,\tAdjusted R-squared:  0.9087 \n",
       "F-statistic: 24.21 on 3 and 4 DF,  p-value: 0.005019\n"
      ]
     },
     "metadata": {},
     "output_type": "display_data"
    }
   ],
   "source": [
    "# Fit linear regression model, with baseline: Manager\n",
    "occupation.lm <- lm(Salary~Occ, data=occupation)\n",
    "# Get summary\n",
    "summary(occupation.lm)"
   ]
  },
  {
   "cell_type": "code",
   "execution_count": 18,
   "id": "5784c17c-9b40-46af-bf13-a2a9791c3ac6",
   "metadata": {},
   "outputs": [
    {
     "data": {
      "text/html": [
       "<table class=\"dataframe\">\n",
       "<caption>A data.frame: 4 × 2</caption>\n",
       "<thead>\n",
       "\t<tr><th></th><th scope=col>Occ</th><th scope=col>salary.est</th></tr>\n",
       "\t<tr><th></th><th scope=col>&lt;chr&gt;</th><th scope=col>&lt;dbl&gt;</th></tr>\n",
       "</thead>\n",
       "<tbody>\n",
       "\t<tr><th scope=row>1</th><td>Clerk   </td><td>   850</td></tr>\n",
       "\t<tr><th scope=row>2</th><td>Manager </td><td>  2250</td></tr>\n",
       "\t<tr><th scope=row>3</th><td>Director</td><td>  9000</td></tr>\n",
       "\t<tr><th scope=row>4</th><td>CEO     </td><td>250000</td></tr>\n",
       "</tbody>\n",
       "</table>\n"
      ],
      "text/latex": [
       "A data.frame: 4 × 2\n",
       "\\begin{tabular}{r|ll}\n",
       "  & Occ & salary.est\\\\\n",
       "  & <chr> & <dbl>\\\\\n",
       "\\hline\n",
       "\t1 & Clerk    &    850\\\\\n",
       "\t2 & Manager  &   2250\\\\\n",
       "\t3 & Director &   9000\\\\\n",
       "\t4 & CEO      & 250000\\\\\n",
       "\\end{tabular}\n"
      ],
      "text/markdown": [
       "\n",
       "A data.frame: 4 × 2\n",
       "\n",
       "| <!--/--> | Occ &lt;chr&gt; | salary.est &lt;dbl&gt; |\n",
       "|---|---|---|\n",
       "| 1 | Clerk    |    850 |\n",
       "| 2 | Manager  |   2250 |\n",
       "| 3 | Director |   9000 |\n",
       "| 4 | CEO      | 250000 |\n",
       "\n"
      ],
      "text/plain": [
       "  Occ      salary.est\n",
       "1 Clerk       850    \n",
       "2 Manager    2250    \n",
       "3 Director   9000    \n",
       "4 CEO      250000    "
      ]
     },
     "metadata": {},
     "output_type": "display_data"
    }
   ],
   "source": [
    "# Find the estimated salary of each occupation\n",
    "occupations.df <- data.frame(Occ=c(\"Clerk\", \"Manager\", \"Director\", \"CEO\"))\n",
    "salary.est <- predict(occupation.lm, newdata=occupations.df)\n",
    "salaries <- data.frame(occupations.df, salary.est)\n",
    "salaries"
   ]
  }
 ],
 "metadata": {
  "kernelspec": {
   "display_name": "R",
   "language": "R",
   "name": "ir"
  },
  "language_info": {
   "codemirror_mode": "r",
   "file_extension": ".r",
   "mimetype": "text/x-r-source",
   "name": "R",
   "pygments_lexer": "r",
   "version": "4.4.1"
  }
 },
 "nbformat": 4,
 "nbformat_minor": 5
}
