{
 "cells": [
  {
   "cell_type": "code",
   "execution_count": 1,
   "id": "08660ccb-6cf7-4a1c-ae16-75dd8ec2b490",
   "metadata": {
    "vscode": {
     "languageId": "r"
    }
   },
   "outputs": [],
   "source": [
    "library(data.table)\n",
    "library(\"rpart\")\n",
    "library(\"rpart.plot\")"
   ]
  },
  {
   "cell_type": "code",
   "execution_count": 2,
   "id": "6d83127b-9dd8-4a60-8256-4c12c45e0754",
   "metadata": {
    "vscode": {
     "languageId": "r"
    }
   },
   "outputs": [],
   "source": [
    "setwd(\"Downloads\")"
   ]
  },
  {
   "cell_type": "markdown",
   "id": "aa6e313d-db82-4824-8fb9-a3758a040021",
   "metadata": {},
   "source": [
    "## Growing of Tree\n",
    "### Starting from the root node will always result in 2 child nodes.\n",
    "- If X is Continuous, then select one data value to get the binary split. Left Node: Age <= 62.5, Right Node: Age > 62.5\n",
    "- If X is Categorical (nominal), then will immediately result in 2 mutually exclusive subgroup. Left Node: Male, Right Node: Female\n",
    "- If X is Categorical (ordinal), then have to obey order ranking when splitting. Left Node: {S,M}, Right Node: {L,XL}"
   ]
  },
  {
   "cell_type": "markdown",
   "id": "f4cde245-7315-4a57-b20b-5442dd723e00",
   "metadata": {},
   "source": [
    "### How CART determines which X variables to select as the splitting variable and the data value for the splitting point\n",
    "#### - Continuous Y - SSE(Sum of Squared Errors)\n",
    "Minimizing SSE is the criteria to obtain the optimal linear regression equation\n",
    "#### - Categorical Y - Gini Index: Measure of node impurity. \n",
    "Best outcome is when all Y values in the node have the same category (100% pure)\n",
    "Worst outcome is when all Y values are equally likely (50%)\n",
    "General Principles in any measure of node impurity:\n",
    "1. Existence of lowest impurity. Impurity measure = 0 means 100% pure node. Occurs when all Y values in the node are in the same category\n",
    "2. Existence of highest impurity. Impurity measure = 1 means 100% impure node. Occurs when all Y values occur the same number of times in the node.\n",
    "\n",
    "Example\n",
    "- Impurity of {40% A, 60% B} > Impurity of {30% A, 70% B}\n",
    "- Impurity of {40% A, 60% B} = Impurity of {60% A, 40% B}"
   ]
  },
  {
   "cell_type": "markdown",
   "id": "3b95f29b-8c93-4429-abed-02049ee77c46",
   "metadata": {},
   "source": [
    "### CART tree growing procedure\n",
    "#### Categorical Y\n",
    "1. Starting with all data at root node, compute proportions of Y\n",
    "2. Consider a binary split and compute the weighted average gini index of the 2 child nodes\n",
    "3. Repeat step 2 by considering all X variables\n",
    "4. Execute the split that results in the smallest weighted average gini index\n",
    "5. Repeat steps 2-4 until a stopping criteria is fulfilled.\n",
    "\n",
    "#### Stopping Criteria\n",
    "- The node is 100% pure - all values of Y are in the same node\n",
    "- The number of cases in a node is too small to split\n",
    "- The maximum depth is reached - 30 levels\n",
    "- Each X variable within the node has identical Y values"
   ]
  },
  {
   "cell_type": "markdown",
   "id": "c7a6a959-9116-48cc-a964-722497006ad0",
   "metadata": {},
   "source": [
    "## Categorical Y\n",
    "### Cart Model for Targeted Credit Card Marketing"
   ]
  },
  {
   "cell_type": "code",
   "execution_count": 3,
   "id": "d8a2827a-d40b-4f3c-be54-5df21e9ab329",
   "metadata": {
    "vscode": {
     "languageId": "r"
    }
   },
   "outputs": [
    {
     "data": {
      "text/plain": [
       " Upgrade    Spending     SuppCard\n",
       " N:18    Min.   :   50   N:17    \n",
       " Y:13    1st Qu.: 6358   Y:14    \n",
       "         Median : 8760           \n",
       "         Mean   : 8405           \n",
       "         3rd Qu.:10550           \n",
       "         Max.   :14804           "
      ]
     },
     "metadata": {},
     "output_type": "display_data"
    }
   ],
   "source": [
    "# Read the dataset\n",
    "cust.dt <- fread(\"upgradeCard.csv\", stringsAsFactors = TRUE)\n",
    "summary(cust.dt)"
   ]
  },
  {
   "cell_type": "code",
   "execution_count": 4,
   "id": "bd347ca4-0304-4034-9c04-9d83b4b9ace7",
   "metadata": {
    "vscode": {
     "languageId": "r"
    }
   },
   "outputs": [],
   "source": [
    "# Set seed\n",
    "set.seed(2004)\n",
    "options(digits=5)"
   ]
  },
  {
   "cell_type": "code",
   "execution_count": 5,
   "id": "fe7ad64c-a98c-4836-9074-72719a57697f",
   "metadata": {
    "vscode": {
     "languageId": "r"
    }
   },
   "outputs": [
    {
     "name": "stdout",
     "output_type": "stream",
     "text": [
      "n= 31 \n",
      "\n",
      "node), split, n, loss, yval, (yprob)\n",
      "      * denotes terminal node\n",
      "\n",
      " 1) root 31 13 N (0.58065 0.41935)  \n",
      "   2) Spending< 8851.5 17  2 N (0.88235 0.11765)  \n",
      "     4) SuppCard=N 13  0 N (1.00000 0.00000) *\n",
      "     5) SuppCard=Y 4  2 N (0.50000 0.50000)  \n",
      "      10) Spending>=7182 3  1 N (0.66667 0.33333)  \n",
      "        20) Spending< 8212 1  0 N (1.00000 0.00000) *\n",
      "        21) Spending>=8212 2  1 N (0.50000 0.50000)  \n",
      "          42) Spending>=8676.5 1  0 N (1.00000 0.00000) *\n",
      "          43) Spending< 8676.5 1  0 Y (0.00000 1.00000) *\n",
      "      11) Spending< 7182 1  0 Y (0.00000 1.00000) *\n",
      "   3) Spending>=8851.5 14  3 Y (0.21429 0.78571)  \n",
      "     6) SuppCard=N 4  2 N (0.50000 0.50000)  \n",
      "      12) Spending< 10120 1  0 N (1.00000 0.00000) *\n",
      "      13) Spending>=10120 3  1 Y (0.33333 0.66667)  \n",
      "        26) Spending>=12894 1  0 N (1.00000 0.00000) *\n",
      "        27) Spending< 12894 2  0 Y (0.00000 1.00000) *\n",
      "     7) SuppCard=Y 10  1 Y (0.10000 0.90000)  \n",
      "      14) Spending< 11496 5  1 Y (0.20000 0.80000)  \n",
      "        28) Spending>=10534 1  0 N (1.00000 0.00000) *\n",
      "        29) Spending< 10534 4  0 Y (0.00000 1.00000) *\n",
      "      15) Spending>=11496 5  0 Y (0.00000 1.00000) *\n"
     ]
    },
    {
     "data": {
      "image/png": "[encoded data removed]",
      "text/plain": [
       "plot without title"
      ]
     },
     "metadata": {
      "image/png": {
       "height": 420,
       "width": 420
      }
     },
     "output_type": "display_data"
    }
   ],
   "source": [
    "# Create & Plot Maximal CART Tree\n",
    "cust.cart <- rpart(Upgrade~., data=cust.dt, method=\"class\", \n",
    "                   control=rpart.control(minsplit=2,cp=0)) # Categorical Y: \"class\", Continuous Y: \"anova\"\n",
    "rpart.plot(cust.cart, nn=T)\n",
    "print(cust.cart)"
   ]
  },
  {
   "cell_type": "markdown",
   "id": "51626f62-c68e-4c8a-95e7-cce95a5599e9",
   "metadata": {},
   "source": [
    "- Node 1(Root node): cases=31, error=13, majority class:N, N:58%, Y:42% → 58% of the customer did not upgrade\n",
    "- Node 2: Spending<8851.5, cases=17, error=2, majority class:N, N:88%, Y:12% → 88% of those that spend <8851.5 did not upgrade\n",
    "- Node 3: Spending>=8851.5, cases=14, error=3, majority class:Y, N:21%, Y:79% → 79% of those that spend >=8851.5 upgraded\n"
   ]
  },
  {
   "cell_type": "code",
   "execution_count": 6,
   "id": "2a220f17-8eca-4169-8693-dd4ec73f2a17",
   "metadata": {
    "vscode": {
     "languageId": "r"
    }
   },
   "outputs": [
    {
     "name": "stdout",
     "output_type": "stream",
     "text": [
      "\n",
      "Classification tree:\n",
      "rpart(formula = Upgrade ~ ., data = cust.dt, method = \"class\", \n",
      "    control = rpart.control(minsplit = 2, cp = 0))\n",
      "\n",
      "Variables actually used in tree construction:\n",
      "[1] Spending SuppCard\n",
      "\n",
      "Root node error: 13/31 = 0.419\n",
      "\n",
      "n= 31 \n",
      "\n",
      "      CP nsplit rel error xerror  xstd\n",
      "1 0.6154      0     1.000  1.000 0.211\n",
      "2 0.0513      1     0.385  0.692 0.194\n",
      "3 0.0385      4     0.231  0.769 0.200\n",
      "4 0.0000     10     0.000  0.846 0.205\n"
     ]
    }
   ],
   "source": [
    "# Pruning sequence and 10-fold cross-validation errors\n",
    "printcp(cust.cart)"
   ]
  },
  {
   "cell_type": "markdown",
   "id": "a3274df4-20ae-4938-ad15-f7487c2adb15",
   "metadata": {},
   "source": [
    "- At cp=0: tree is maximal with 10 splits, train set error= 0% of root node error, avg CV error= 84.6% of root node error, 1 standard error= 20.5% of root node error\n",
    "- At cp=0.0385: after first pruning, the tree has 4 splits, train set error= 23.1% of root node error, avg CV error= 76.9% of root node error, 1 standard error= 20% of root node error\n",
    "- At cp=0.0513: after second pruning, the tree has 1 splits, train set error= 38.5% of root node error, avg CV error= 69.2% of root node error, 1 standard error= 19.4% of root node error\n",
    "- At cp=0.6154: after fourth/final pruning, the tree has 0 split (only root node exists), train set error= 100% of root node error, avg CV error= 100% of root node error, 1 standard error= 21.1% of root node error"
   ]
  },
  {
   "cell_type": "markdown",
   "id": "f782b6d8-41bd-441e-8757-9841ba2867a9",
   "metadata": {},
   "source": [
    "### To determine the optimal tree:\n",
    "- Identify the minimum CV error + 1 SE by visualizing from the chart via the plotcp() function\n",
    "- OR, through manual calculation"
   ]
  },
  {
   "cell_type": "code",
   "execution_count": 7,
   "id": "a613169f-f9db-4f77-8658-17e283b78323",
   "metadata": {
    "vscode": {
     "languageId": "r"
    }
   },
   "outputs": [
    {
     "data": {
      "image/png": "[encoded data removed]",
      "text/plain": [
       "plot without title"
      ]
     },
     "metadata": {
      "image/png": {
       "height": 420,
       "width": 420
      }
     },
     "output_type": "display_data"
    }
   ],
   "source": [
    "# Display the pruning sequence and 10-fold cross-validation errors in a chart\n",
    "plotcp(cust.cart)"
   ]
  },
  {
   "cell_type": "markdown",
   "id": "8fb10f99-99d1-44d4-9e3d-a835d03a8d42",
   "metadata": {},
   "source": [
    "- The minimum CV error + 1 SE is represented by the dotted horizontal line\n",
    "- The simplest tree would then be the 2nd tree from the left, with cp=0.18"
   ]
  },
  {
   "cell_type": "markdown",
   "id": "6bca4d82-03e2-4a4b-8f3f-d394a012585a",
   "metadata": {},
   "source": [
    "#### OR, calculate the optimal CP value manually"
   ]
  },
  {
   "cell_type": "code",
   "execution_count": 31,
   "id": "50e9c293-1b81-4ed6-b425-3f2a2bb3ff52",
   "metadata": {
    "vscode": {
     "languageId": "r"
    }
   },
   "outputs": [
    {
     "name": "stdout",
     "output_type": "stream",
     "text": [
      "The optimal tree is located at the 2 simplest tree from the left \n",
      "The optimal CP value is 0.17765"
     ]
    }
   ],
   "source": [
    "# Compute min CVerror + 1SE in maximal tree\n",
    "CVerror.cap <- cust.cart$cptable[which.min(cust.cart$cptable[,\"xerror\"]), \"xerror\"] +\n",
    "  cust.cart$cptable[which.min(cust.cart$cptable[,\"xerror\"]), \"xstd\"]\n",
    "\n",
    "# Find the optimal CP region whose CV error is just below CVerror.cap in maximal tree\n",
    "i <- 1 ; j <- 4\n",
    "while (cust.cart$cptable[i,j] > CVerror.cap) {\n",
    "  i <- i + 1\n",
    "}\n",
    "\n",
    "# Get the mean of the 2 identified CP values in the optimal region if optimal tree has at least 1 split\n",
    "cp.opt = ifelse(i>1, sqrt(cust.cart$cptable[i,1] * cust.cart$cptable[i-1,1]), 1)\n",
    "cat(\"The optimal tree is located at the\",i,\"simplest tree from the left \\n\")\n",
    "cat(\"The optimal CP value is\",cp.opt)"
   ]
  },
  {
   "cell_type": "code",
   "execution_count": 9,
   "id": "bfa376f3-4410-40ff-931d-862ad33e9a22",
   "metadata": {
    "vscode": {
     "languageId": "r"
    }
   },
   "outputs": [
    {
     "name": "stdout",
     "output_type": "stream",
     "text": [
      "\n",
      "Classification tree:\n",
      "rpart(formula = Upgrade ~ ., data = cust.dt, method = \"class\", \n",
      "    control = rpart.control(minsplit = 2, cp = 0))\n",
      "\n",
      "Variables actually used in tree construction:\n",
      "[1] Spending\n",
      "\n",
      "Root node error: 13/31 = 0.419\n",
      "\n",
      "n= 31 \n",
      "\n",
      "     CP nsplit rel error xerror  xstd\n",
      "1 0.615      0     1.000  1.000 0.211\n",
      "2 0.178      1     0.385  0.692 0.194\n"
     ]
    },
    {
     "data": {
      "image/png": "[encoded data removed]",
      "text/plain": [
       "plot without title"
      ]
     },
     "metadata": {
      "image/png": {
       "height": 420,
       "width": 420
      }
     },
     "output_type": "display_data"
    }
   ],
   "source": [
    "# Get the optimal tree by pruning the maximal tree using the cp value then plot the optimal tree\n",
    "cust.cart.prune <- prune(cust.cart, cp=cp.opt)\n",
    "rpart.plot(cust.cart.prune, nn=T)\n",
    "printcp(cust.cart.prune)"
   ]
  },
  {
   "cell_type": "markdown",
   "id": "15557457-bccb-4fcd-a67b-0a703e4991cf",
   "metadata": {},
   "source": [
    "#### Conclusion\n",
    "The optimal CART model has only 1 decision rule: \n",
    "- If annual spending < 8852, then the cardholder is predicted to say No to upgrade offer (88% No, 12% Yes)\n",
    "- If annual spending >= 8852, then the cardholder is predicted to say Yes to upgrade offer (21% No, 79% Yes)"
   ]
  },
  {
   "cell_type": "markdown",
   "id": "44366cda-7d00-4cd5-ac89-100bf58c929b",
   "metadata": {},
   "source": [
    "------------------------------------------------------------------------------------------------------------------------------------------------------------------------------------------------------------------------"
   ]
  },
  {
   "cell_type": "markdown",
   "id": "256cec7a-f974-465b-a04e-a618a2bdc8b2",
   "metadata": {},
   "source": [
    "## Continuous Y\n",
    "### Cart Model for Car Fuel Efficiency"
   ]
  },
  {
   "cell_type": "code",
   "execution_count": 10,
   "id": "f77daef2-1a2b-44e8-adef-f72062f4d0d4",
   "metadata": {
    "vscode": {
     "languageId": "r"
    }
   },
   "outputs": [],
   "source": [
    "# Read the dataset\n",
    "data(mtcars)"
   ]
  },
  {
   "cell_type": "code",
   "execution_count": 11,
   "id": "d4dc42a9-cf88-4f9b-a17e-69a56545939c",
   "metadata": {
    "vscode": {
     "languageId": "r"
    }
   },
   "outputs": [],
   "source": [
    "# Set seed\n",
    "set.seed(2014)\n",
    "options(digits=5)"
   ]
  },
  {
   "cell_type": "code",
   "execution_count": 17,
   "id": "489bc5d6-5d99-42dd-90ce-d7a8afaea544",
   "metadata": {
    "vscode": {
     "languageId": "r"
    }
   },
   "outputs": [
    {
     "name": "stdout",
     "output_type": "stream",
     "text": [
      "n= 32 \n",
      "\n",
      "node), split, n, deviance, yval\n",
      "      * denotes terminal node\n",
      "\n",
      "  1) root 32 1.1260e+03 20.091  \n",
      "    2) wt>=2.26 26 3.4657e+02 17.788  \n",
      "      4) cyl>=7 14 8.5200e+01 15.100  \n",
      "        8) disp>=450 2 0.0000e+00 10.400 *\n",
      "        9) disp< 450 12 3.3657e+01 15.883  \n",
      "         18) hp>=205 5 3.3880e+00 14.620  \n",
      "           36) qsec>=15.005 3 1.0400e+00 14.100  \n",
      "             72) drat>=3.48 1 0.0000e+00 13.300 *\n",
      "             73) drat< 3.48 2 8.0000e-02 14.500  \n",
      "              146) disp< 400 1 0.0000e+00 14.300 *\n",
      "              147) disp>=400 1 0.0000e+00 14.700 *\n",
      "           37) qsec< 15.005 2 3.2000e-01 15.400  \n",
      "             74) disp< 326 1 0.0000e+00 15.000 *\n",
      "             75) disp>=326 1 0.0000e+00 15.800 *\n",
      "         19) hp< 205 7 1.6589e+01 16.786  \n",
      "           38) disp< 339 5 3.3480e+00 15.920  \n",
      "             76) hp< 165 2 4.5000e-02 15.350  \n",
      "              152) disp< 311 1 0.0000e+00 15.200 *\n",
      "              153) disp>=311 1 0.0000e+00 15.500 *\n",
      "             77) hp>=165 3 2.2200e+00 16.300  \n",
      "              154) qsec>=17.8 1 0.0000e+00 15.200 *\n",
      "              155) qsec< 17.8 2 4.0500e-01 16.850  \n",
      "                310) qsec< 17.5 1 0.0000e+00 16.400 *\n",
      "                311) qsec>=17.5 1 0.0000e+00 17.300 *\n",
      "           39) disp>=339 2 1.2500e-01 18.950  \n",
      "             78) disp< 380 1 0.0000e+00 18.700 *\n",
      "             79) disp>=380 1 0.0000e+00 19.200 *\n",
      "      5) cyl< 7 12 4.2122e+01 20.925  \n",
      "       10) wt>=3.3275 3 1.0867e+00 18.367  \n",
      "         20) qsec>=18.6 2 4.5000e-02 17.950  \n",
      "           40) disp< 196.3 1 0.0000e+00 17.800 *\n",
      "           41) disp>=196.3 1 0.0000e+00 18.100 *\n",
      "         21) qsec< 18.6 1 0.0000e+00 19.200 *\n",
      "       11) wt< 3.3275 9 1.4856e+01 21.778  \n",
      "         22) hp>=96 6 2.2600e+00 21.000  \n",
      "           44) qsec< 15.98 1 0.0000e+00 19.700 *\n",
      "           45) qsec>=15.98 5 2.3200e-01 21.260  \n",
      "             90) vs< 0.5 2 0.0000e+00 21.000 *\n",
      "             91) vs>=0.5 3 6.6667e-03 21.433  \n",
      "              182) qsec< 19.725 2 0.0000e+00 21.400 *\n",
      "              183) qsec>=19.725 1 0.0000e+00 21.500 *\n",
      "         23) hp< 96 3 1.7067e+00 23.333  \n",
      "           46) hp>=77.5 2 0.0000e+00 22.800 *\n",
      "           47) hp< 77.5 1 0.0000e+00 24.400 *\n",
      "    3) wt< 2.26 6 4.4553e+01 30.067  \n",
      "      6) qsec< 19.185 4 1.4907e+01 28.525  \n",
      "       12) wt>=1.775 2 8.4500e-01 26.650  \n",
      "         24) disp>=99.65 1 0.0000e+00 26.000 *\n",
      "         25) disp< 99.65 1 0.0000e+00 27.300 *\n",
      "       13) wt< 1.775 2 0.0000e+00 30.400 *\n",
      "      7) qsec>=19.185 2 1.1250e+00 33.150  \n",
      "       14) disp>=74.9 1 0.0000e+00 32.400 *\n",
      "       15) disp< 74.9 1 0.0000e+00 33.900 *\n"
     ]
    },
    {
     "data": {
      "image/png": "[encoded data removed]",
      "text/plain": [
       "plot without title"
      ]
     },
     "metadata": {
      "image/png": {
       "height": 420,
       "width": 420
      }
     },
     "output_type": "display_data"
    }
   ],
   "source": [
    "# Create & Plot Maximal CART Tree\n",
    "cart <- rpart(mpg~., data=mtcars, method=\"anova\",\n",
    "              control=rpart.control(minsplit=2, cp=0)) # default cp=0.01, so set cp=0\n",
    "rpart.plot(cart, nn=T)\n",
    "print(cart)"
   ]
  },
  {
   "cell_type": "code",
   "execution_count": 18,
   "id": "5fdc73de-d2d0-44c1-b519-48e8e04d4615",
   "metadata": {
    "vscode": {
     "languageId": "r"
    }
   },
   "outputs": [
    {
     "name": "stdout",
     "output_type": "stream",
     "text": [
      "\n",
      "Regression tree:\n",
      "rpart(formula = mpg ~ ., data = mtcars, method = \"anova\", control = rpart.control(minsplit = 2, \n",
      "    cp = 0))\n",
      "\n",
      "Variables actually used in tree construction:\n",
      "[1] cyl  disp drat hp   qsec vs   wt  \n",
      "\n",
      "Root node error: 1126/32 = 35.2\n",
      "\n",
      "n= 32 \n",
      "\n",
      "         CP nsplit rel error xerror   xstd\n",
      "1  6.53e-01      0  1.00e+00  1.079 0.2540\n",
      "2  1.95e-01      1  3.47e-01  0.652 0.1608\n",
      "3  4.58e-02      2  1.53e-01  0.373 0.0954\n",
      "4  2.53e-02      3  1.07e-01  0.312 0.0921\n",
      "5  2.32e-02      4  8.15e-02  0.292 0.0846\n",
      "6  1.25e-02      5  5.83e-02  0.257 0.0715\n",
      "7  1.21e-02      6  4.58e-02  0.223 0.0673\n",
      "8  1.16e-02      7  3.36e-02  0.223 0.0673\n",
      "9  9.67e-03      8  2.20e-02  0.223 0.0673\n",
      "10 1.80e-03      9  1.23e-02  0.206 0.0668\n",
      "11 1.80e-03     10  1.05e-02  0.220 0.0750\n",
      "12 1.52e-03     11  8.73e-03  0.220 0.0750\n",
      "13 1.29e-03     12  7.21e-03  0.225 0.0753\n",
      "14 9.99e-04     14  4.64e-03  0.230 0.0750\n",
      "15 9.25e-04     15  3.64e-03  0.234 0.0752\n",
      "16 8.53e-04     16  2.71e-03  0.237 0.0750\n",
      "17 7.50e-04     17  1.86e-03  0.231 0.0749\n",
      "18 3.60e-04     18  1.11e-03  0.236 0.0754\n",
      "19 2.84e-04     19  7.52e-04  0.237 0.0752\n",
      "20 2.00e-04     20  4.68e-04  0.237 0.0752\n",
      "21 1.11e-04     21  2.68e-04  0.233 0.0728\n",
      "22 7.10e-05     22  1.57e-04  0.234 0.0729\n",
      "23 4.00e-05     23  8.58e-05  0.234 0.0729\n",
      "24 5.92e-06     25  5.92e-06  0.234 0.0728\n",
      "25 0.00e+00     26  0.00e+00  0.234 0.0732\n"
     ]
    }
   ],
   "source": [
    "# Pruning sequence and 10-fold cross-validation errors\n",
    "printcp(cart)"
   ]
  },
  {
   "cell_type": "code",
   "execution_count": 14,
   "id": "c014d119-b1c8-4059-81ab-bdd69222628a",
   "metadata": {
    "vscode": {
     "languageId": "r"
    }
   },
   "outputs": [
    {
     "data": {
      "image/png": "[encoded data removed]",
      "text/plain": [
       "plot without title"
      ]
     },
     "metadata": {
      "image/png": {
       "height": 420,
       "width": 420
      }
     },
     "output_type": "display_data"
    }
   ],
   "source": [
    "# Display the pruning sequence and 10-fold cross-validation errors in a chart\n",
    "plotcp(cart)"
   ]
  },
  {
   "cell_type": "markdown",
   "id": "52c4b1ff-0ce0-4a15-9585-6ec21a643638",
   "metadata": {},
   "source": [
    "- The minimum CV error + 1 SE is represented by the dotted horizontal line\n",
    "- The simplest tree would then be the 6th tree from the right, with cp=~0.016"
   ]
  },
  {
   "cell_type": "markdown",
   "id": "ed1f5168-abe4-4909-af5b-dc6d71696fb8",
   "metadata": {},
   "source": [
    "#### OR, calculate the optimal CP value manually"
   ]
  },
  {
   "cell_type": "code",
   "execution_count": 32,
   "id": "dcf1ccde-83f4-4e2b-aafd-a00da3e648e3",
   "metadata": {
    "vscode": {
     "languageId": "r"
    }
   },
   "outputs": [
    {
     "name": "stdout",
     "output_type": "stream",
     "text": [
      "The optimal tree is located at the 6 simplest tree from the left \n",
      "The optimal CP value is 0.01704"
     ]
    }
   ],
   "source": [
    "# Compute min CVerror + 1SE in maximal tree\n",
    "CVerror.cap <- cart$cptable[which.min(cart$cptable[,\"xerror\"]), \"xerror\"] +\n",
    "  cart$cptable[which.min(cart$cptable[,\"xerror\"]), \"xstd\"]\n",
    "\n",
    "# Find the optimal CP region whose CV error is just below CVerror.cap in maximal tree\n",
    "i <- 1 ; j <- 4\n",
    "while (cart$cptable[i,j] > CVerror.cap) {\n",
    "  i <- i + 1\n",
    "}\n",
    "\n",
    "# Get the mean of the 2 identified CP values in the optimal region if optimal tree has at least 1 split\n",
    "cp.opt = ifelse(i>1, sqrt(cart$cptable[i,1] * cart$cptable[i-1,1]), 1)\n",
    "cat(\"The optimal tree is located at the\",i,\"simplest tree from the left \\n\")\n",
    "cat(\"The optimal CP value is\", cp.opt)"
   ]
  },
  {
   "cell_type": "code",
   "execution_count": 34,
   "id": "6e54e393-1e0c-43b2-90a2-5eca82d76e3c",
   "metadata": {
    "vscode": {
     "languageId": "r"
    }
   },
   "outputs": [
    {
     "data": {
      "image/png": "[encoded data removed]",
      "text/plain": [
       "plot without title"
      ]
     },
     "metadata": {
      "image/png": {
       "height": 420,
       "width": 420
      }
     },
     "output_type": "display_data"
    }
   ],
   "source": [
    "# Get the optimal tree by pruning the maximal tree using the cp value then plot the optimal tree\n",
    "cart.prune <- prune(cart, cp=cp.opt)\n",
    "rpart.plot(cart.prune, nn=T)"
   ]
  },
  {
   "cell_type": "markdown",
   "id": "b57d7bc0-fc3a-4a85-8494-e7ab89bb266f",
   "metadata": {},
   "source": [
    "#### Conclusion\n",
    "The optimal CART model shows 5 decision rules: \n",
    "- The highest estimated average mpg of 33 miles per gallon (node 7) occurs when wt<2.3 and qsec>=19\n",
    "- The lowest estimated average mpg of 10 miles per gallon (node 8) occurs when wt>=2.3, cyl>=7 and disp>=450"
   ]
  }
 ],
 "metadata": {
  "kernelspec": {
   "display_name": "R",
   "language": "R",
   "name": "ir"
  },
  "language_info": {
   "codemirror_mode": "r",
   "file_extension": ".r",
   "mimetype": "text/x-r-source",
   "name": "R",
   "pygments_lexer": "r",
   "version": "4.4.1"
  }
 },
 "nbformat": 4,
 "nbformat_minor": 5
}
